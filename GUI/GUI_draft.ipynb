{
 "cells": [
  {
   "cell_type": "code",
   "execution_count": 2,
   "metadata": {},
   "outputs": [],
   "source": [
    "import cv2\n",
    "import tkinter as tk\n",
    "from tkinter import *\n",
    "from PIL import Image,ImageTk\n",
    "from datetime import datetime\n",
    "from tkinter import messagebox, filedialog"
   ]
  },
  {
   "cell_type": "code",
   "execution_count": 3,
   "metadata": {},
   "outputs": [],
   "source": [
    "def CreateWidgets():\n",
    "    root.cameraLabel = Label(root,\n",
    "                             bg=\"steelblue\",\n",
    "                             borderwidth=3,\n",
    "                             relief=\"groove\")\n",
    "    root.cameraLabel.grid(row=2, column=1, \n",
    "                          padx=10, pady=10, \n",
    "                          columnspan=2)\n",
    "    \n",
    "    root.instructionLabel = Label(root,\n",
    "                            bg=\"steelblue\",\n",
    "                            fg=\"white\",\n",
    "                            text=\"Instructions for Hand Gesture:\",\n",
    "                            font=('Times New Roman', 20),\n",
    "                            borderwidth=3,\n",
    "                            relief=\"groove\")\n",
    "    root.instructionLabel.grid(row=1, column=4,\n",
    "                               padx=10, pady=10,\n",
    "                               columnspan=2)\n",
    "        \n",
    "    root.CAMBTN = Button(root,\n",
    "                         text=\"Camera Status: ON\",\n",
    "                         command=CamStop,\n",
    "                         bg=\"LIGHTBLUE\",\n",
    "                         font=('Times New Roman', 15),\n",
    "                         width=15)\n",
    "    root.CAMBTN.grid(row=4, column=1)\n",
    "    \n",
    "    ShowFeed()"
   ]
  },
  {
   "cell_type": "code",
   "execution_count": 4,
   "metadata": {},
   "outputs": [],
   "source": [
    "def ShowFeed():\n",
    "    # Capture each frame from camera\n",
    "    ret, frame = root.cap.read()\n",
    "    if ret:\n",
    "        # Color correct from BGR to RGB\n",
    "        ccFrame = cv2.cvtColor(frame,\n",
    "                            cv2.COLOR_BGR2RGBA)\n",
    "        ccImg = Image.fromarray(ccFrame)\n",
    "\n",
    "        # Display frame with PhotoImage object\n",
    "        imgTk = ImageTk.PhotoImage(image=ccImg)\n",
    "        root.cameraLabel.configure(image=imgTk)\n",
    "\n",
    "        # Reference to frame\n",
    "        root.cameraLabel.imgTk = imgTk\n",
    "        \n",
    "        # Call ShowFeed for next frame after 10ms\n",
    "        root.cameraLabel.after(10, ShowFeed)\n",
    "    else:\n",
    "        root.cameraLabel.configure(image='')"
   ]
  },
  {
   "cell_type": "code",
   "execution_count": 5,
   "metadata": {},
   "outputs": [],
   "source": [
    "# Define function for turning CAM off\n",
    "def CamStop():\n",
    "    # Release camera device and update button\n",
    "    root.cap.release()\n",
    "    root.CAMBTN.config(text=\"Camera Status: OFF\",\n",
    "                       command=CamStart)\n",
    "    # Replace cameraLabel with text\n",
    "    root.cameraLabel.config(text=\"Camera is OFF\",\n",
    "                            font=('Times New Roman',\n",
    "                                  50))"
   ]
  },
  {
   "cell_type": "code",
   "execution_count": 6,
   "metadata": {},
   "outputs": [],
   "source": [
    "def CamStart():\n",
    "    # Recreate VideoCapture object\n",
    "    root.cap = cv2.VideoCapture(0)\n",
    "    \n",
    "    # Setting width and height\n",
    "    width_cam, height_cam = 640, 480\n",
    "    root.cap.set(cv2.CAP_PROP_FRAME_WIDTH, width_cam)\n",
    "    root.cap.set(cv2.CAP_PROP_FRAME_HEIGHT, height_cam)\n",
    "    \n",
    "    # Configure camera button controls\n",
    "    root.CAMBTN.config(text=\"Camera Status: ON\",\n",
    "                       command=CamStop)\n",
    "    \n",
    "    # Reset cameraLabel to showing feed state\n",
    "    root.cameraLabel.config(text=\"\")\n",
    "    ShowFeed()"
   ]
  },
  {
   "cell_type": "code",
   "execution_count": 7,
   "metadata": {},
   "outputs": [],
   "source": [
    "# Create GUI object\n",
    "root = tk.Tk()\n",
    "\n",
    "root.cap = cv2.VideoCapture(0)\n",
    "\n",
    "width, height = 640, 480\n",
    "root.cap.set(cv2.CAP_PROP_FRAME_WIDTH, width)\n",
    "root.cap.set(cv2.CAP_PROP_FRAME_HEIGHT, height)\n",
    "\n",
    "# Format GUI window\n",
    "root.title(\"SG_GESTURE GUI\")\n",
    "root.geometry(\"1200x720\")\n",
    "root.resizable(True, True)\n",
    "root.configure(background = \"Gray\")\n",
    "\n",
    "CreateWidgets()\n",
    "root.mainloop()"
   ]
  },
  {
   "cell_type": "code",
   "execution_count": null,
   "metadata": {},
   "outputs": [],
   "source": []
  },
  {
   "cell_type": "code",
   "execution_count": null,
   "metadata": {},
   "outputs": [],
   "source": []
  }
 ],
 "metadata": {
  "colab": {
   "provenance": []
  },
  "kernelspec": {
   "display_name": "Python 3 (ipykernel)",
   "language": "python",
   "name": "python3"
  },
  "language_info": {
   "codemirror_mode": {
    "name": "ipython",
    "version": 3
   },
   "file_extension": ".py",
   "mimetype": "text/x-python",
   "name": "python",
   "nbconvert_exporter": "python",
   "pygments_lexer": "ipython3",
   "version": "3.9.16"
  }
 },
 "nbformat": 4,
 "nbformat_minor": 4
}
