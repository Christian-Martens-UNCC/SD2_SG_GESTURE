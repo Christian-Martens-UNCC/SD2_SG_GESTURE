{
  "nbformat": 4,
  "nbformat_minor": 0,
  "metadata": {
    "colab": {
      "provenance": []
    },
    "kernelspec": {
      "name": "python3",
      "display_name": "Python 3"
    },
    "language_info": {
      "name": "python"
    },
    "accelerator": "GPU",
    "gpuClass": "standard"
  },
  "cells": [
    {
      "cell_type": "code",
      "source": [
        "!pip install tensorflow==2.5 pandas"
      ],
      "metadata": {
        "colab": {
          "base_uri": "https://localhost:8080/"
        },
        "id": "90NRub0Oayvi",
        "outputId": "76d18fce-9b48-4dd6-9e2f-77519c36534e"
      },
      "execution_count": null,
      "outputs": [
        {
          "output_type": "stream",
          "name": "stdout",
          "text": [
            "Looking in indexes: https://pypi.org/simple, https://us-python.pkg.dev/colab-wheels/public/simple/\n",
            "Requirement already satisfied: tensorflow==2.5 in /usr/local/lib/python3.9/dist-packages (2.5.0)\n",
            "Requirement already satisfied: pandas in /usr/local/lib/python3.9/dist-packages (1.4.4)\n",
            "Requirement already satisfied: absl-py~=0.10 in /usr/local/lib/python3.9/dist-packages (from tensorflow==2.5) (0.15.0)\n",
            "Requirement already satisfied: wheel~=0.35 in /usr/local/lib/python3.9/dist-packages (from tensorflow==2.5) (0.40.0)\n",
            "Requirement already satisfied: tensorboard~=2.5 in /usr/local/lib/python3.9/dist-packages (from tensorflow==2.5) (2.11.2)\n",
            "Requirement already satisfied: keras-nightly~=2.5.0.dev in /usr/local/lib/python3.9/dist-packages (from tensorflow==2.5) (2.5.0.dev2021032900)\n",
            "Requirement already satisfied: keras-preprocessing~=1.1.2 in /usr/local/lib/python3.9/dist-packages (from tensorflow==2.5) (1.1.2)\n",
            "Requirement already satisfied: h5py~=3.1.0 in /usr/local/lib/python3.9/dist-packages (from tensorflow==2.5) (3.1.0)\n",
            "Requirement already satisfied: numpy~=1.19.2 in /usr/local/lib/python3.9/dist-packages (from tensorflow==2.5) (1.19.5)\n",
            "Requirement already satisfied: termcolor~=1.1.0 in /usr/local/lib/python3.9/dist-packages (from tensorflow==2.5) (1.1.0)\n",
            "Requirement already satisfied: astunparse~=1.6.3 in /usr/local/lib/python3.9/dist-packages (from tensorflow==2.5) (1.6.3)\n",
            "Requirement already satisfied: google-pasta~=0.2 in /usr/local/lib/python3.9/dist-packages (from tensorflow==2.5) (0.2.0)\n",
            "Requirement already satisfied: wrapt~=1.12.1 in /usr/local/lib/python3.9/dist-packages (from tensorflow==2.5) (1.12.1)\n",
            "Requirement already satisfied: opt-einsum~=3.3.0 in /usr/local/lib/python3.9/dist-packages (from tensorflow==2.5) (3.3.0)\n",
            "Requirement already satisfied: gast==0.4.0 in /usr/local/lib/python3.9/dist-packages (from tensorflow==2.5) (0.4.0)\n",
            "Requirement already satisfied: protobuf>=3.9.2 in /usr/local/lib/python3.9/dist-packages (from tensorflow==2.5) (3.20.3)\n",
            "Requirement already satisfied: six~=1.15.0 in /usr/local/lib/python3.9/dist-packages (from tensorflow==2.5) (1.15.0)\n",
            "Requirement already satisfied: tensorflow-estimator<2.6.0,>=2.5.0rc0 in /usr/local/lib/python3.9/dist-packages (from tensorflow==2.5) (2.5.0)\n",
            "Requirement already satisfied: typing-extensions~=3.7.4 in /usr/local/lib/python3.9/dist-packages (from tensorflow==2.5) (3.7.4.3)\n",
            "Requirement already satisfied: grpcio~=1.34.0 in /usr/local/lib/python3.9/dist-packages (from tensorflow==2.5) (1.34.1)\n",
            "Requirement already satisfied: flatbuffers~=1.12.0 in /usr/local/lib/python3.9/dist-packages (from tensorflow==2.5) (1.12)\n",
            "Requirement already satisfied: python-dateutil>=2.8.1 in /usr/local/lib/python3.9/dist-packages (from pandas) (2.8.2)\n",
            "Requirement already satisfied: pytz>=2020.1 in /usr/local/lib/python3.9/dist-packages (from pandas) (2022.7.1)\n",
            "Requirement already satisfied: google-auth-oauthlib<0.5,>=0.4.1 in /usr/local/lib/python3.9/dist-packages (from tensorboard~=2.5->tensorflow==2.5) (0.4.6)\n",
            "Requirement already satisfied: werkzeug>=1.0.1 in /usr/local/lib/python3.9/dist-packages (from tensorboard~=2.5->tensorflow==2.5) (2.2.3)\n",
            "Requirement already satisfied: setuptools>=41.0.0 in /usr/local/lib/python3.9/dist-packages (from tensorboard~=2.5->tensorflow==2.5) (67.6.1)\n",
            "Requirement already satisfied: tensorboard-plugin-wit>=1.6.0 in /usr/local/lib/python3.9/dist-packages (from tensorboard~=2.5->tensorflow==2.5) (1.8.1)\n",
            "Requirement already satisfied: tensorboard-data-server<0.7.0,>=0.6.0 in /usr/local/lib/python3.9/dist-packages (from tensorboard~=2.5->tensorflow==2.5) (0.6.1)\n",
            "Requirement already satisfied: requests<3,>=2.21.0 in /usr/local/lib/python3.9/dist-packages (from tensorboard~=2.5->tensorflow==2.5) (2.27.1)\n",
            "Requirement already satisfied: google-auth<3,>=1.6.3 in /usr/local/lib/python3.9/dist-packages (from tensorboard~=2.5->tensorflow==2.5) (2.17.2)\n",
            "Requirement already satisfied: markdown>=2.6.8 in /usr/local/lib/python3.9/dist-packages (from tensorboard~=2.5->tensorflow==2.5) (3.4.3)\n",
            "Requirement already satisfied: rsa<5,>=3.1.4 in /usr/local/lib/python3.9/dist-packages (from google-auth<3,>=1.6.3->tensorboard~=2.5->tensorflow==2.5) (4.9)\n",
            "Requirement already satisfied: pyasn1-modules>=0.2.1 in /usr/local/lib/python3.9/dist-packages (from google-auth<3,>=1.6.3->tensorboard~=2.5->tensorflow==2.5) (0.2.8)\n",
            "Requirement already satisfied: cachetools<6.0,>=2.0.0 in /usr/local/lib/python3.9/dist-packages (from google-auth<3,>=1.6.3->tensorboard~=2.5->tensorflow==2.5) (5.3.0)\n",
            "Requirement already satisfied: requests-oauthlib>=0.7.0 in /usr/local/lib/python3.9/dist-packages (from google-auth-oauthlib<0.5,>=0.4.1->tensorboard~=2.5->tensorflow==2.5) (1.3.1)\n",
            "Requirement already satisfied: importlib-metadata>=4.4 in /usr/local/lib/python3.9/dist-packages (from markdown>=2.6.8->tensorboard~=2.5->tensorflow==2.5) (6.3.0)\n",
            "Requirement already satisfied: idna<4,>=2.5 in /usr/local/lib/python3.9/dist-packages (from requests<3,>=2.21.0->tensorboard~=2.5->tensorflow==2.5) (3.4)\n",
            "Requirement already satisfied: urllib3<1.27,>=1.21.1 in /usr/local/lib/python3.9/dist-packages (from requests<3,>=2.21.0->tensorboard~=2.5->tensorflow==2.5) (1.26.15)\n",
            "Requirement already satisfied: charset-normalizer~=2.0.0 in /usr/local/lib/python3.9/dist-packages (from requests<3,>=2.21.0->tensorboard~=2.5->tensorflow==2.5) (2.0.12)\n",
            "Requirement already satisfied: certifi>=2017.4.17 in /usr/local/lib/python3.9/dist-packages (from requests<3,>=2.21.0->tensorboard~=2.5->tensorflow==2.5) (2022.12.7)\n",
            "Requirement already satisfied: MarkupSafe>=2.1.1 in /usr/local/lib/python3.9/dist-packages (from werkzeug>=1.0.1->tensorboard~=2.5->tensorflow==2.5) (2.1.2)\n",
            "Requirement already satisfied: zipp>=0.5 in /usr/local/lib/python3.9/dist-packages (from importlib-metadata>=4.4->markdown>=2.6.8->tensorboard~=2.5->tensorflow==2.5) (3.15.0)\n",
            "Requirement already satisfied: pyasn1<0.5.0,>=0.4.6 in /usr/local/lib/python3.9/dist-packages (from pyasn1-modules>=0.2.1->google-auth<3,>=1.6.3->tensorboard~=2.5->tensorflow==2.5) (0.4.8)\n",
            "Requirement already satisfied: oauthlib>=3.0.0 in /usr/local/lib/python3.9/dist-packages (from requests-oauthlib>=0.7.0->google-auth-oauthlib<0.5,>=0.4.1->tensorboard~=2.5->tensorflow==2.5) (3.2.2)\n"
          ]
        }
      ]
    },
    {
      "cell_type": "code",
      "source": [
        "!pip install numpy"
      ],
      "metadata": {
        "id": "Qszla_sfdpIK"
      },
      "execution_count": null,
      "outputs": []
    },
    {
      "cell_type": "code",
      "source": [
        "%tensorflow_version(2.5)"
      ],
      "metadata": {
        "colab": {
          "base_uri": "https://localhost:8080/"
        },
        "id": "lEAZSu09bi3H",
        "outputId": "3822bf53-ec1b-4807-f8ad-e170698a5721"
      },
      "execution_count": null,
      "outputs": [
        {
          "output_type": "stream",
          "name": "stderr",
          "text": [
            "UsageError: Line magic function `%tensorflow_version(2.5)` not found.\n"
          ]
        }
      ]
    },
    {
      "cell_type": "code",
      "execution_count": null,
      "metadata": {
        "id": "Xng3Yc0BGkOB"
      },
      "outputs": [],
      "source": [
        "import tensorflow as tf\n",
        "from tensorflow import keras\n",
        "from tensorflow.keras import layers\n",
        "import numpy as np\n",
        "import pandas as pd"
      ]
    },
    {
      "cell_type": "code",
      "source": [
        "# Before tensorflow 2.5 install\n",
        "print(tf.__version__)\n",
        "print(keras.__version__)\n",
        "print(pd.__version__)\n",
        "print(np.__version__)"
      ],
      "metadata": {
        "colab": {
          "base_uri": "https://localhost:8080/"
        },
        "id": "h9XDkf8Mae1g",
        "outputId": "f6ba0fc6-0ff6-4eb0-b1d1-c430efcc57a1"
      },
      "execution_count": null,
      "outputs": [
        {
          "output_type": "stream",
          "name": "stdout",
          "text": [
            "2.5.0\n",
            "2.5.0\n",
            "1.4.4\n",
            "1.19.5\n"
          ]
        }
      ]
    },
    {
      "cell_type": "code",
      "source": [
        "print(tf.__version__)\n",
        "print(keras.__version__)\n",
        "print(pd.__version__)\n",
        "print(np.__version__)"
      ],
      "metadata": {
        "colab": {
          "base_uri": "https://localhost:8080/"
        },
        "id": "63RwFtIOgMWI",
        "outputId": "a4eeba31-6655-412e-a25b-0b726819800d"
      },
      "execution_count": null,
      "outputs": [
        {
          "output_type": "stream",
          "name": "stdout",
          "text": [
            "2.5.0\n",
            "2.5.0\n",
            "1.4.4\n",
            "1.19.5\n"
          ]
        }
      ]
    },
    {
      "cell_type": "code",
      "source": [
        "dataset = pd.read_csv('master_dataset2.csv')\n",
        "dataset.shape"
      ],
      "metadata": {
        "colab": {
          "base_uri": "https://localhost:8080/"
        },
        "id": "p84whfauLH-d",
        "outputId": "e8dcad88-c599-4b76-891b-27b93e17673c"
      },
      "execution_count": null,
      "outputs": [
        {
          "output_type": "execute_result",
          "data": {
            "text/plain": [
              "(71778, 43)"
            ]
          },
          "metadata": {},
          "execution_count": 29
        }
      ]
    },
    {
      "cell_type": "code",
      "source": [
        "X = dataset.drop('ID',axis=1)\n",
        "y = dataset['ID']"
      ],
      "metadata": {
        "id": "g7NZK-UEaQyp"
      },
      "execution_count": null,
      "outputs": []
    },
    {
      "cell_type": "code",
      "source": [
        "from sklearn.model_selection import train_test_split\n",
        "X_train, X_test, y_train, y_test = train_test_split(X,y, test_size=0.2, random_state=42)"
      ],
      "metadata": {
        "id": "k-RcZ3TxagHr"
      },
      "execution_count": null,
      "outputs": []
    },
    {
      "cell_type": "code",
      "source": [
        "from sklearn.preprocessing import StandardScaler\n",
        "scaler = StandardScaler()\n",
        "X_train_scaled = scaler.fit_transform(X_train)\n",
        "X_test_scaled = scaler.transform(X_test)"
      ],
      "metadata": {
        "id": "ddGe3lY7a0hm"
      },
      "execution_count": null,
      "outputs": []
    },
    {
      "cell_type": "code",
      "source": [
        "# Change the parameters for different training models.\n",
        "def model5():\n",
        "    model = keras.Sequential([layers.Dense(5, activation='relu'),\n",
        "                              layers.Dense(10, activation='relu'),\n",
        "                              layers.Dense(12)])\n",
        "    return model"
      ],
      "metadata": {
        "id": "-wke7whPO1qC"
      },
      "execution_count": null,
      "outputs": []
    },
    {
      "cell_type": "code",
      "source": [
        "model = model5()"
      ],
      "metadata": {
        "id": "g8sKxTB8cKbx"
      },
      "execution_count": null,
      "outputs": []
    },
    {
      "cell_type": "code",
      "source": [
        "model.build()"
      ],
      "metadata": {
        "id": "1UZGrnhwqT1S"
      },
      "execution_count": null,
      "outputs": []
    },
    {
      "cell_type": "code",
      "source": [
        "model.compile(loss=keras.losses.SparseCategoricalCrossentropy(from_logits=False),\n",
        "              optimizer=keras.optimizers.Adam(),\n",
        "              metrics=[keras.metrics.SparseCategoricalAccuracy()])"
      ],
      "metadata": {
        "id": "Lq29uQMYVBVp"
      },
      "execution_count": null,
      "outputs": []
    },
    {
      "cell_type": "code",
      "source": [
        "print(keras.__version__)"
      ],
      "metadata": {
        "colab": {
          "base_uri": "https://localhost:8080/"
        },
        "id": "uA3vBToyTZPn",
        "outputId": "0ac521f5-2d4b-4f89-feb9-df4a24574c9d"
      },
      "execution_count": null,
      "outputs": [
        {
          "output_type": "stream",
          "name": "stdout",
          "text": [
            "2.5.0\n"
          ]
        }
      ]
    },
    {
      "cell_type": "code",
      "source": [
        "history = model.fit(X_train_scaled,y_train,batch_size=250, epochs=100,validation_data=(X_test_scaled,y_test),verbose=2)"
      ],
      "metadata": {
        "id": "RCBUsFjScTDJ"
      },
      "execution_count": null,
      "outputs": []
    },
    {
      "cell_type": "code",
      "source": [
        "model.summary()"
      ],
      "metadata": {
        "colab": {
          "base_uri": "https://localhost:8080/"
        },
        "id": "kFKRN2rTAgwP",
        "outputId": "fbc47d38-e22e-4e31-dd5c-5de4199a8c26"
      },
      "execution_count": null,
      "outputs": [
        {
          "output_type": "stream",
          "name": "stdout",
          "text": [
            "Model: \"sequential\"\n",
            "_________________________________________________________________\n",
            "Layer (type)                 Output Shape              Param #   \n",
            "=================================================================\n",
            "dense (Dense)                (None, 2)                 86        \n",
            "_________________________________________________________________\n",
            "dense_1 (Dense)              (None, 4)                 12        \n",
            "_________________________________________________________________\n",
            "dense_2 (Dense)              (None, 12)                60        \n",
            "=================================================================\n",
            "Total params: 158\n",
            "Trainable params: 158\n",
            "Non-trainable params: 0\n",
            "_________________________________________________________________\n"
          ]
        }
      ]
    },
    {
      "cell_type": "code",
      "source": [
        "model.evaluate(X_test_scaled,y_test)"
      ],
      "metadata": {
        "colab": {
          "base_uri": "https://localhost:8080/"
        },
        "id": "5WfmL_ztJ2q1",
        "outputId": "c2550b0d-be89-40d1-e614-5fde124861e7"
      },
      "execution_count": null,
      "outputs": [
        {
          "output_type": "stream",
          "name": "stdout",
          "text": [
            "449/449 [==============================] - 1s 2ms/step - loss: 0.0885 - sparse_categorical_accuracy: 0.9867\n"
          ]
        },
        {
          "output_type": "execute_result",
          "data": {
            "text/plain": [
              "[0.0885421484708786, 0.9866954684257507]"
            ]
          },
          "metadata": {},
          "execution_count": 16
        }
      ]
    },
    {
      "cell_type": "code",
      "source": [
        "model.save(\"model21.h5\")"
      ],
      "metadata": {
        "id": "NC9CC0W7mJqa"
      },
      "execution_count": null,
      "outputs": []
    },
    {
      "cell_type": "code",
      "source": [
        "converter = tf.lite.TFLiteConverter.from_keras_model(model)\n",
        "tflite_model = converter.convert()"
      ],
      "metadata": {
        "id": "mhyKZ12Zit3Z"
      },
      "execution_count": null,
      "outputs": []
    },
    {
      "cell_type": "code",
      "source": [
        "open(\"model21.tflite\",\"wb\").write(tflite_model)"
      ],
      "metadata": {
        "colab": {
          "base_uri": "https://localhost:8080/"
        },
        "id": "eSOq__c0i174",
        "outputId": "165f3f6f-eba4-4686-c99a-1d192ca382bd"
      },
      "execution_count": null,
      "outputs": [
        {
          "output_type": "execute_result",
          "data": {
            "text/plain": [
              "2204"
            ]
          },
          "metadata": {},
          "execution_count": 19
        }
      ]
    },
    {
      "cell_type": "code",
      "source": [
        "tflite_model_path = \"model21.tflite\""
      ],
      "metadata": {
        "id": "rXuhrRuCk_B4"
      },
      "execution_count": null,
      "outputs": []
    },
    {
      "cell_type": "code",
      "source": [
        "# Load the TFLite model and allocate tensors.\n",
        "interpreter = tf.lite.Interpreter(model_path=tflite_model_path)\n",
        "interpreter.allocate_tensors()"
      ],
      "metadata": {
        "id": "XHQWiq1slcjj"
      },
      "execution_count": null,
      "outputs": []
    },
    {
      "cell_type": "code",
      "source": [
        "# Get input and output tensors.\n",
        "input_details = interpreter.get_input_details()\n",
        "output_details = interpreter.get_output_details()"
      ],
      "metadata": {
        "id": "cQ0vsMqqliai"
      },
      "execution_count": null,
      "outputs": []
    },
    {
      "cell_type": "code",
      "source": [
        "# Test the model on input data.\n",
        "input_shape = input_details[0]['shape']\n",
        "print(input_shape)"
      ],
      "metadata": {
        "colab": {
          "base_uri": "https://localhost:8080/"
        },
        "id": "W9raZGJdlnoR",
        "outputId": "f302a813-6759-44f5-c524-fcc333d14d08"
      },
      "execution_count": null,
      "outputs": [
        {
          "output_type": "stream",
          "name": "stdout",
          "text": [
            "[ 1 42]\n"
          ]
        }
      ]
    },
    {
      "cell_type": "code",
      "source": [
        "\n",
        "# Load image\n",
        "input_data = image\n",
        "\n",
        "interpreter.set_tensor(input_details[0]['index'], input_data)\n",
        "\n",
        "time_before=time()\n",
        "interpreter.invoke()\n",
        "time_after=time()\n",
        "total_tflite_time = time_after - time_before\n",
        "print(\"Total prediction time for tflite without opt model is: \", total_tflite_time)\n",
        "\n",
        "output_data_tflite = interpreter.get_tensor(output_details[0]['index'])\n",
        "print(\"The tflite w/o opt prediction for this image is: \", output_data_tflite, \" 0=Uninfected, 1=Parasited\")"
      ],
      "metadata": {
        "id": "ys_jzN4YlrUk"
      },
      "execution_count": null,
      "outputs": []
    },
    {
      "cell_type": "code",
      "source": [
        "def model6():\n",
        "    model = keras.Sequential([\n",
        "        keras.layers.Dense(42, activation='tanh'),\n",
        "        keras.layers.Dense(25, activation='tanh'),\n",
        "        keras.layers.Dense(12)\n",
        "    ])\n",
        "    return model"
      ],
      "metadata": {
        "id": "LRAG3oyyegFc"
      },
      "execution_count": null,
      "outputs": []
    },
    {
      "cell_type": "code",
      "source": [
        "model2 = model6()"
      ],
      "metadata": {
        "id": "1Ni6s38MkTCI"
      },
      "execution_count": null,
      "outputs": []
    },
    {
      "cell_type": "code",
      "source": [
        "model2.compile(optimizer=keras.optimizers.Adam(learning_rate=1e-3),\n",
        "              loss=keras.losses.SparseCategoricalCrossentropy(from_logits=True),\n",
        "              metrics=[keras.metrics.SparseCategoricalAccuracy()])"
      ],
      "metadata": {
        "id": "yeWOlhzukVSt"
      },
      "execution_count": null,
      "outputs": []
    },
    {
      "cell_type": "code",
      "source": [
        "history2 = model2.fit(X_train_scaled,y_train,batch_size=250, epochs=100,validation_data=(X_test_scaled,y_test))"
      ],
      "metadata": {
        "colab": {
          "base_uri": "https://localhost:8080/"
        },
        "id": "mUZzim6WkYKF",
        "outputId": "b46388c1-8000-4e64-a6c1-3f3c7a9af3d6"
      },
      "execution_count": null,
      "outputs": [
        {
          "output_type": "stream",
          "name": "stdout",
          "text": [
            "Epoch 1/100\n",
            "183/183 [==============================] - 2s 4ms/step - loss: 1.1016 - sparse_categorical_accuracy: 0.7811 - val_loss: 0.3597 - val_sparse_categorical_accuracy: 0.9742\n",
            "Epoch 2/100\n",
            "183/183 [==============================] - 1s 4ms/step - loss: 0.1984 - sparse_categorical_accuracy: 0.9893 - val_loss: 0.1101 - val_sparse_categorical_accuracy: 0.9942\n",
            "Epoch 3/100\n",
            "183/183 [==============================] - 1s 3ms/step - loss: 0.0770 - sparse_categorical_accuracy: 0.9945 - val_loss: 0.0552 - val_sparse_categorical_accuracy: 0.9950\n",
            "Epoch 4/100\n",
            "183/183 [==============================] - 1s 4ms/step - loss: 0.0425 - sparse_categorical_accuracy: 0.9961 - val_loss: 0.0340 - val_sparse_categorical_accuracy: 0.9963\n",
            "Epoch 5/100\n",
            "183/183 [==============================] - 1s 4ms/step - loss: 0.0275 - sparse_categorical_accuracy: 0.9973 - val_loss: 0.0239 - val_sparse_categorical_accuracy: 0.9970\n",
            "Epoch 6/100\n",
            "183/183 [==============================] - 1s 4ms/step - loss: 0.0196 - sparse_categorical_accuracy: 0.9980 - val_loss: 0.0175 - val_sparse_categorical_accuracy: 0.9981\n",
            "Epoch 7/100\n",
            "183/183 [==============================] - 1s 5ms/step - loss: 0.0148 - sparse_categorical_accuracy: 0.9986 - val_loss: 0.0140 - val_sparse_categorical_accuracy: 0.9983\n",
            "Epoch 8/100\n",
            "183/183 [==============================] - 1s 5ms/step - loss: 0.0117 - sparse_categorical_accuracy: 0.9988 - val_loss: 0.0115 - val_sparse_categorical_accuracy: 0.9988\n",
            "Epoch 9/100\n",
            "183/183 [==============================] - 1s 4ms/step - loss: 0.0095 - sparse_categorical_accuracy: 0.9990 - val_loss: 0.0097 - val_sparse_categorical_accuracy: 0.9988\n",
            "Epoch 10/100\n",
            "183/183 [==============================] - 1s 4ms/step - loss: 0.0079 - sparse_categorical_accuracy: 0.9992 - val_loss: 0.0081 - val_sparse_categorical_accuracy: 0.9988\n",
            "Epoch 11/100\n",
            "183/183 [==============================] - 1s 4ms/step - loss: 0.0067 - sparse_categorical_accuracy: 0.9993 - val_loss: 0.0076 - val_sparse_categorical_accuracy: 0.9989\n",
            "Epoch 12/100\n",
            "183/183 [==============================] - 1s 4ms/step - loss: 0.0057 - sparse_categorical_accuracy: 0.9995 - val_loss: 0.0063 - val_sparse_categorical_accuracy: 0.9990\n",
            "Epoch 13/100\n",
            "183/183 [==============================] - 1s 4ms/step - loss: 0.0049 - sparse_categorical_accuracy: 0.9995 - val_loss: 0.0061 - val_sparse_categorical_accuracy: 0.9990\n",
            "Epoch 14/100\n",
            "183/183 [==============================] - 1s 4ms/step - loss: 0.0043 - sparse_categorical_accuracy: 0.9996 - val_loss: 0.0051 - val_sparse_categorical_accuracy: 0.9991\n",
            "Epoch 15/100\n",
            "183/183 [==============================] - 1s 4ms/step - loss: 0.0039 - sparse_categorical_accuracy: 0.9996 - val_loss: 0.0048 - val_sparse_categorical_accuracy: 0.9990\n",
            "Epoch 16/100\n",
            "183/183 [==============================] - 1s 4ms/step - loss: 0.0034 - sparse_categorical_accuracy: 0.9997 - val_loss: 0.0039 - val_sparse_categorical_accuracy: 0.9990\n",
            "Epoch 17/100\n",
            "183/183 [==============================] - 1s 4ms/step - loss: 0.0031 - sparse_categorical_accuracy: 0.9997 - val_loss: 0.0032 - val_sparse_categorical_accuracy: 0.9995\n",
            "Epoch 18/100\n",
            "183/183 [==============================] - 1s 4ms/step - loss: 0.0028 - sparse_categorical_accuracy: 0.9997 - val_loss: 0.0034 - val_sparse_categorical_accuracy: 0.9992\n",
            "Epoch 19/100\n",
            "183/183 [==============================] - 1s 4ms/step - loss: 0.0025 - sparse_categorical_accuracy: 0.9997 - val_loss: 0.0025 - val_sparse_categorical_accuracy: 0.9996\n",
            "Epoch 20/100\n",
            "183/183 [==============================] - 1s 4ms/step - loss: 0.0023 - sparse_categorical_accuracy: 0.9998 - val_loss: 0.0027 - val_sparse_categorical_accuracy: 0.9993\n",
            "Epoch 21/100\n",
            "183/183 [==============================] - 1s 3ms/step - loss: 0.0021 - sparse_categorical_accuracy: 0.9998 - val_loss: 0.0025 - val_sparse_categorical_accuracy: 0.9993\n",
            "Epoch 22/100\n",
            "183/183 [==============================] - 1s 4ms/step - loss: 0.0019 - sparse_categorical_accuracy: 0.9998 - val_loss: 0.0022 - val_sparse_categorical_accuracy: 0.9992\n",
            "Epoch 23/100\n",
            "183/183 [==============================] - 1s 5ms/step - loss: 0.0017 - sparse_categorical_accuracy: 0.9998 - val_loss: 0.0022 - val_sparse_categorical_accuracy: 0.9994\n",
            "Epoch 24/100\n",
            "183/183 [==============================] - 1s 5ms/step - loss: 0.0016 - sparse_categorical_accuracy: 0.9998 - val_loss: 0.0020 - val_sparse_categorical_accuracy: 0.9994\n",
            "Epoch 25/100\n",
            "183/183 [==============================] - 1s 5ms/step - loss: 0.0014 - sparse_categorical_accuracy: 0.9998 - val_loss: 0.0016 - val_sparse_categorical_accuracy: 0.9996\n",
            "Epoch 26/100\n",
            "183/183 [==============================] - 1s 4ms/step - loss: 0.0013 - sparse_categorical_accuracy: 0.9998 - val_loss: 0.0013 - val_sparse_categorical_accuracy: 0.9996\n",
            "Epoch 27/100\n",
            "183/183 [==============================] - 1s 4ms/step - loss: 0.0012 - sparse_categorical_accuracy: 0.9998 - val_loss: 0.0017 - val_sparse_categorical_accuracy: 0.9995\n",
            "Epoch 28/100\n",
            "183/183 [==============================] - 1s 4ms/step - loss: 0.0011 - sparse_categorical_accuracy: 0.9998 - val_loss: 0.0014 - val_sparse_categorical_accuracy: 0.9996\n",
            "Epoch 29/100\n",
            "183/183 [==============================] - 1s 4ms/step - loss: 9.0430e-04 - sparse_categorical_accuracy: 0.9998 - val_loss: 0.0011 - val_sparse_categorical_accuracy: 0.9997\n",
            "Epoch 30/100\n",
            "183/183 [==============================] - 1s 4ms/step - loss: 7.9057e-04 - sparse_categorical_accuracy: 0.9999 - val_loss: 0.0012 - val_sparse_categorical_accuracy: 0.9997\n",
            "Epoch 31/100\n",
            "183/183 [==============================] - 1s 4ms/step - loss: 7.7298e-04 - sparse_categorical_accuracy: 0.9998 - val_loss: 0.0014 - val_sparse_categorical_accuracy: 0.9996\n",
            "Epoch 32/100\n",
            "183/183 [==============================] - 1s 4ms/step - loss: 6.8518e-04 - sparse_categorical_accuracy: 0.9999 - val_loss: 8.6641e-04 - val_sparse_categorical_accuracy: 0.9997\n",
            "Epoch 33/100\n",
            "183/183 [==============================] - 1s 4ms/step - loss: 6.0659e-04 - sparse_categorical_accuracy: 0.9999 - val_loss: 9.0997e-04 - val_sparse_categorical_accuracy: 0.9997\n",
            "Epoch 34/100\n",
            "183/183 [==============================] - 1s 4ms/step - loss: 5.6408e-04 - sparse_categorical_accuracy: 0.9999 - val_loss: 0.0011 - val_sparse_categorical_accuracy: 0.9996\n",
            "Epoch 35/100\n",
            "183/183 [==============================] - 1s 4ms/step - loss: 5.1882e-04 - sparse_categorical_accuracy: 0.9999 - val_loss: 0.0011 - val_sparse_categorical_accuracy: 0.9996\n",
            "Epoch 36/100\n",
            "183/183 [==============================] - 1s 4ms/step - loss: 4.7512e-04 - sparse_categorical_accuracy: 0.9999 - val_loss: 0.0011 - val_sparse_categorical_accuracy: 0.9996\n",
            "Epoch 37/100\n",
            "183/183 [==============================] - 1s 4ms/step - loss: 5.2795e-04 - sparse_categorical_accuracy: 0.9999 - val_loss: 0.0013 - val_sparse_categorical_accuracy: 0.9995\n",
            "Epoch 38/100\n",
            "183/183 [==============================] - 1s 4ms/step - loss: 4.8701e-04 - sparse_categorical_accuracy: 0.9999 - val_loss: 7.9197e-04 - val_sparse_categorical_accuracy: 0.9997\n",
            "Epoch 39/100\n",
            "183/183 [==============================] - 1s 4ms/step - loss: 3.6777e-04 - sparse_categorical_accuracy: 1.0000 - val_loss: 7.1005e-04 - val_sparse_categorical_accuracy: 0.9997\n",
            "Epoch 40/100\n",
            "183/183 [==============================] - 1s 5ms/step - loss: 3.1457e-04 - sparse_categorical_accuracy: 1.0000 - val_loss: 4.4234e-04 - val_sparse_categorical_accuracy: 0.9999\n",
            "Epoch 41/100\n",
            "183/183 [==============================] - 1s 5ms/step - loss: 2.9791e-04 - sparse_categorical_accuracy: 1.0000 - val_loss: 5.7412e-04 - val_sparse_categorical_accuracy: 0.9998\n",
            "Epoch 42/100\n",
            "183/183 [==============================] - 1s 4ms/step - loss: 2.6767e-04 - sparse_categorical_accuracy: 1.0000 - val_loss: 5.7427e-04 - val_sparse_categorical_accuracy: 0.9998\n",
            "Epoch 43/100\n",
            "183/183 [==============================] - 1s 4ms/step - loss: 2.4160e-04 - sparse_categorical_accuracy: 1.0000 - val_loss: 6.2899e-04 - val_sparse_categorical_accuracy: 0.9998\n",
            "Epoch 44/100\n",
            "183/183 [==============================] - 1s 4ms/step - loss: 2.2881e-04 - sparse_categorical_accuracy: 1.0000 - val_loss: 4.4088e-04 - val_sparse_categorical_accuracy: 0.9998\n",
            "Epoch 45/100\n",
            "183/183 [==============================] - 1s 4ms/step - loss: 1.9188e-04 - sparse_categorical_accuracy: 1.0000 - val_loss: 4.3373e-04 - val_sparse_categorical_accuracy: 0.9999\n",
            "Epoch 46/100\n",
            "183/183 [==============================] - 1s 4ms/step - loss: 1.8813e-04 - sparse_categorical_accuracy: 1.0000 - val_loss: 2.8514e-04 - val_sparse_categorical_accuracy: 1.0000\n",
            "Epoch 47/100\n",
            "183/183 [==============================] - 1s 4ms/step - loss: 1.6330e-04 - sparse_categorical_accuracy: 1.0000 - val_loss: 4.4957e-04 - val_sparse_categorical_accuracy: 0.9998\n",
            "Epoch 48/100\n",
            "183/183 [==============================] - 1s 4ms/step - loss: 1.3919e-04 - sparse_categorical_accuracy: 1.0000 - val_loss: 3.9557e-04 - val_sparse_categorical_accuracy: 0.9999\n",
            "Epoch 49/100\n",
            "183/183 [==============================] - 1s 4ms/step - loss: 1.5002e-04 - sparse_categorical_accuracy: 1.0000 - val_loss: 0.0046 - val_sparse_categorical_accuracy: 0.9992\n",
            "Epoch 50/100\n",
            "183/183 [==============================] - 1s 4ms/step - loss: 3.9202e-04 - sparse_categorical_accuracy: 0.9999 - val_loss: 7.2200e-04 - val_sparse_categorical_accuracy: 0.9996\n",
            "Epoch 51/100\n",
            "183/183 [==============================] - 1s 4ms/step - loss: 2.2336e-04 - sparse_categorical_accuracy: 1.0000 - val_loss: 1.8727e-04 - val_sparse_categorical_accuracy: 1.0000\n",
            "Epoch 52/100\n",
            "183/183 [==============================] - 1s 4ms/step - loss: 1.0568e-04 - sparse_categorical_accuracy: 1.0000 - val_loss: 2.5954e-04 - val_sparse_categorical_accuracy: 0.9999\n",
            "Epoch 53/100\n",
            "183/183 [==============================] - 1s 4ms/step - loss: 9.1724e-05 - sparse_categorical_accuracy: 1.0000 - val_loss: 2.4412e-04 - val_sparse_categorical_accuracy: 0.9999\n",
            "Epoch 54/100\n",
            "183/183 [==============================] - 1s 4ms/step - loss: 7.9661e-05 - sparse_categorical_accuracy: 1.0000 - val_loss: 1.9045e-04 - val_sparse_categorical_accuracy: 1.0000\n",
            "Epoch 55/100\n",
            "183/183 [==============================] - 1s 4ms/step - loss: 6.7632e-05 - sparse_categorical_accuracy: 1.0000 - val_loss: 2.5235e-04 - val_sparse_categorical_accuracy: 0.9999\n",
            "Epoch 56/100\n",
            "183/183 [==============================] - 1s 4ms/step - loss: 6.2337e-05 - sparse_categorical_accuracy: 1.0000 - val_loss: 1.6532e-04 - val_sparse_categorical_accuracy: 1.0000\n",
            "Epoch 57/100\n",
            "183/183 [==============================] - 1s 5ms/step - loss: 5.6956e-05 - sparse_categorical_accuracy: 1.0000 - val_loss: 2.3267e-04 - val_sparse_categorical_accuracy: 0.9999\n",
            "Epoch 58/100\n",
            "183/183 [==============================] - 1s 5ms/step - loss: 5.0505e-05 - sparse_categorical_accuracy: 1.0000 - val_loss: 1.9557e-04 - val_sparse_categorical_accuracy: 0.9999\n",
            "Epoch 59/100\n",
            "183/183 [==============================] - 1s 4ms/step - loss: 4.5074e-05 - sparse_categorical_accuracy: 1.0000 - val_loss: 2.1033e-04 - val_sparse_categorical_accuracy: 1.0000\n",
            "Epoch 60/100\n",
            "183/183 [==============================] - 1s 4ms/step - loss: 4.0549e-05 - sparse_categorical_accuracy: 1.0000 - val_loss: 1.8340e-04 - val_sparse_categorical_accuracy: 0.9999\n",
            "Epoch 61/100\n",
            "183/183 [==============================] - 1s 4ms/step - loss: 3.7890e-05 - sparse_categorical_accuracy: 1.0000 - val_loss: 2.1202e-04 - val_sparse_categorical_accuracy: 0.9999\n",
            "Epoch 62/100\n",
            "183/183 [==============================] - 1s 4ms/step - loss: 3.4136e-05 - sparse_categorical_accuracy: 1.0000 - val_loss: 1.5505e-04 - val_sparse_categorical_accuracy: 1.0000\n",
            "Epoch 63/100\n",
            "183/183 [==============================] - 1s 4ms/step - loss: 3.1815e-05 - sparse_categorical_accuracy: 1.0000 - val_loss: 1.3185e-04 - val_sparse_categorical_accuracy: 1.0000\n",
            "Epoch 64/100\n",
            "183/183 [==============================] - 1s 4ms/step - loss: 2.9830e-05 - sparse_categorical_accuracy: 1.0000 - val_loss: 1.9836e-04 - val_sparse_categorical_accuracy: 0.9999\n",
            "Epoch 65/100\n",
            "183/183 [==============================] - 1s 4ms/step - loss: 2.6266e-05 - sparse_categorical_accuracy: 1.0000 - val_loss: 2.3045e-04 - val_sparse_categorical_accuracy: 0.9999\n",
            "Epoch 66/100\n",
            "183/183 [==============================] - 1s 4ms/step - loss: 2.3980e-05 - sparse_categorical_accuracy: 1.0000 - val_loss: 1.7935e-04 - val_sparse_categorical_accuracy: 0.9999\n",
            "Epoch 67/100\n",
            "183/183 [==============================] - 1s 4ms/step - loss: 2.0506e-05 - sparse_categorical_accuracy: 1.0000 - val_loss: 1.1690e-04 - val_sparse_categorical_accuracy: 1.0000\n",
            "Epoch 68/100\n",
            "183/183 [==============================] - 1s 4ms/step - loss: 1.8970e-05 - sparse_categorical_accuracy: 1.0000 - val_loss: 1.3573e-04 - val_sparse_categorical_accuracy: 1.0000\n",
            "Epoch 69/100\n",
            "183/183 [==============================] - 1s 4ms/step - loss: 1.7672e-05 - sparse_categorical_accuracy: 1.0000 - val_loss: 1.4326e-04 - val_sparse_categorical_accuracy: 1.0000\n",
            "Epoch 70/100\n",
            "183/183 [==============================] - 1s 4ms/step - loss: 1.6045e-05 - sparse_categorical_accuracy: 1.0000 - val_loss: 1.6541e-04 - val_sparse_categorical_accuracy: 1.0000\n",
            "Epoch 71/100\n",
            "183/183 [==============================] - 1s 4ms/step - loss: 1.5130e-05 - sparse_categorical_accuracy: 1.0000 - val_loss: 1.0200e-04 - val_sparse_categorical_accuracy: 1.0000\n",
            "Epoch 72/100\n",
            "183/183 [==============================] - 1s 4ms/step - loss: 1.3537e-05 - sparse_categorical_accuracy: 1.0000 - val_loss: 1.8310e-04 - val_sparse_categorical_accuracy: 1.0000\n",
            "Epoch 73/100\n",
            "183/183 [==============================] - 1s 5ms/step - loss: 1.3612e-04 - sparse_categorical_accuracy: 1.0000 - val_loss: 4.2792e-04 - val_sparse_categorical_accuracy: 0.9996\n",
            "Epoch 74/100\n",
            "183/183 [==============================] - 1s 5ms/step - loss: 3.2373e-04 - sparse_categorical_accuracy: 0.9999 - val_loss: 3.3572e-04 - val_sparse_categorical_accuracy: 0.9999\n",
            "Epoch 75/100\n",
            "183/183 [==============================] - 1s 5ms/step - loss: 2.4953e-04 - sparse_categorical_accuracy: 1.0000 - val_loss: 2.3609e-04 - val_sparse_categorical_accuracy: 0.9999\n",
            "Epoch 76/100\n",
            "183/183 [==============================] - 1s 4ms/step - loss: 2.8655e-05 - sparse_categorical_accuracy: 1.0000 - val_loss: 2.7351e-04 - val_sparse_categorical_accuracy: 0.9998\n",
            "Epoch 77/100\n",
            "183/183 [==============================] - 1s 4ms/step - loss: 1.9058e-05 - sparse_categorical_accuracy: 1.0000 - val_loss: 1.8030e-04 - val_sparse_categorical_accuracy: 0.9999\n",
            "Epoch 78/100\n",
            "183/183 [==============================] - 1s 4ms/step - loss: 1.6356e-05 - sparse_categorical_accuracy: 1.0000 - val_loss: 1.5025e-04 - val_sparse_categorical_accuracy: 0.9999\n",
            "Epoch 79/100\n",
            "183/183 [==============================] - 1s 4ms/step - loss: 1.4589e-05 - sparse_categorical_accuracy: 1.0000 - val_loss: 1.6713e-04 - val_sparse_categorical_accuracy: 0.9999\n",
            "Epoch 80/100\n",
            "183/183 [==============================] - 1s 4ms/step - loss: 1.3187e-05 - sparse_categorical_accuracy: 1.0000 - val_loss: 1.4749e-04 - val_sparse_categorical_accuracy: 0.9999\n",
            "Epoch 81/100\n",
            "183/183 [==============================] - 1s 4ms/step - loss: 1.2047e-05 - sparse_categorical_accuracy: 1.0000 - val_loss: 1.7025e-04 - val_sparse_categorical_accuracy: 0.9999\n",
            "Epoch 82/100\n",
            "183/183 [==============================] - 1s 4ms/step - loss: 1.1143e-05 - sparse_categorical_accuracy: 1.0000 - val_loss: 1.4902e-04 - val_sparse_categorical_accuracy: 0.9999\n",
            "Epoch 83/100\n",
            "183/183 [==============================] - 1s 4ms/step - loss: 1.0306e-05 - sparse_categorical_accuracy: 1.0000 - val_loss: 1.1332e-04 - val_sparse_categorical_accuracy: 0.9999\n",
            "Epoch 84/100\n",
            "183/183 [==============================] - 1s 4ms/step - loss: 9.5028e-06 - sparse_categorical_accuracy: 1.0000 - val_loss: 1.4989e-04 - val_sparse_categorical_accuracy: 0.9999\n",
            "Epoch 85/100\n",
            "183/183 [==============================] - 1s 4ms/step - loss: 8.9616e-06 - sparse_categorical_accuracy: 1.0000 - val_loss: 1.4972e-04 - val_sparse_categorical_accuracy: 0.9999\n",
            "Epoch 86/100\n",
            "183/183 [==============================] - 1s 4ms/step - loss: 8.3274e-06 - sparse_categorical_accuracy: 1.0000 - val_loss: 9.0209e-05 - val_sparse_categorical_accuracy: 1.0000\n",
            "Epoch 87/100\n",
            "183/183 [==============================] - 1s 4ms/step - loss: 7.7753e-06 - sparse_categorical_accuracy: 1.0000 - val_loss: 1.2177e-04 - val_sparse_categorical_accuracy: 0.9999\n",
            "Epoch 88/100\n",
            "183/183 [==============================] - 1s 4ms/step - loss: 7.2186e-06 - sparse_categorical_accuracy: 1.0000 - val_loss: 1.0508e-04 - val_sparse_categorical_accuracy: 0.9999\n",
            "Epoch 89/100\n",
            "183/183 [==============================] - 1s 4ms/step - loss: 6.8083e-06 - sparse_categorical_accuracy: 1.0000 - val_loss: 1.2290e-04 - val_sparse_categorical_accuracy: 0.9999\n",
            "Epoch 90/100\n",
            "183/183 [==============================] - 1s 6ms/step - loss: 6.3722e-06 - sparse_categorical_accuracy: 1.0000 - val_loss: 1.0704e-04 - val_sparse_categorical_accuracy: 0.9999\n",
            "Epoch 91/100\n",
            "183/183 [==============================] - 1s 6ms/step - loss: 5.9974e-06 - sparse_categorical_accuracy: 1.0000 - val_loss: 4.9850e-05 - val_sparse_categorical_accuracy: 1.0000\n",
            "Epoch 92/100\n",
            "183/183 [==============================] - 1s 4ms/step - loss: 5.6137e-06 - sparse_categorical_accuracy: 1.0000 - val_loss: 5.9673e-05 - val_sparse_categorical_accuracy: 1.0000\n",
            "Epoch 93/100\n",
            "183/183 [==============================] - 1s 4ms/step - loss: 5.2372e-06 - sparse_categorical_accuracy: 1.0000 - val_loss: 5.9717e-05 - val_sparse_categorical_accuracy: 1.0000\n",
            "Epoch 94/100\n",
            "183/183 [==============================] - 1s 5ms/step - loss: 4.8935e-06 - sparse_categorical_accuracy: 1.0000 - val_loss: 8.4485e-05 - val_sparse_categorical_accuracy: 0.9999\n",
            "Epoch 95/100\n",
            "183/183 [==============================] - 1s 4ms/step - loss: 4.5815e-06 - sparse_categorical_accuracy: 1.0000 - val_loss: 5.7808e-05 - val_sparse_categorical_accuracy: 1.0000\n",
            "Epoch 96/100\n",
            "183/183 [==============================] - 1s 4ms/step - loss: 4.3040e-06 - sparse_categorical_accuracy: 1.0000 - val_loss: 4.2099e-05 - val_sparse_categorical_accuracy: 1.0000\n",
            "Epoch 97/100\n",
            "183/183 [==============================] - 1s 4ms/step - loss: 4.0156e-06 - sparse_categorical_accuracy: 1.0000 - val_loss: 3.1587e-05 - val_sparse_categorical_accuracy: 1.0000\n",
            "Epoch 98/100\n",
            "183/183 [==============================] - 1s 4ms/step - loss: 3.7615e-06 - sparse_categorical_accuracy: 1.0000 - val_loss: 6.0856e-05 - val_sparse_categorical_accuracy: 1.0000\n",
            "Epoch 99/100\n",
            "183/183 [==============================] - 1s 4ms/step - loss: 3.5456e-06 - sparse_categorical_accuracy: 1.0000 - val_loss: 6.7521e-05 - val_sparse_categorical_accuracy: 1.0000\n",
            "Epoch 100/100\n",
            "183/183 [==============================] - 1s 4ms/step - loss: 3.3074e-06 - sparse_categorical_accuracy: 1.0000 - val_loss: 4.7075e-05 - val_sparse_categorical_accuracy: 1.0000\n"
          ]
        }
      ]
    },
    {
      "cell_type": "code",
      "source": [
        "pd.DataFrame(history.history).plot()"
      ],
      "metadata": {
        "colab": {
          "base_uri": "https://localhost:8080/",
          "height": 282
        },
        "id": "ViCqz4vYkb-i",
        "outputId": "6304ea14-718d-4a0b-afa7-ca500454aa67"
      },
      "execution_count": null,
      "outputs": [
        {
          "output_type": "execute_result",
          "data": {
            "text/plain": [
              "<Axes: >"
            ]
          },
          "metadata": {},
          "execution_count": 90
        },
        {
          "output_type": "display_data",
          "data": {
            "text/plain": [
              "<Figure size 432x288 with 1 Axes>"
            ],
            "image/png": "[encoded data removed]"
          },
          "metadata": {
            "needs_background": "light"
          }
        }
      ]
    },
    {
      "cell_type": "code",
      "source": [
        "def model7():\n",
        "    model = keras.Sequential([\n",
        "        keras.layers.Dense(5, activation='relu'),\n",
        "        keras.layers.Dense(10, activation='relu'),\n",
        "        keras.layers.Dense(12)\n",
        "    ])\n",
        "    return model"
      ],
      "metadata": {
        "id": "dzxqIKcSmjWz"
      },
      "execution_count": null,
      "outputs": []
    },
    {
      "cell_type": "code",
      "source": [
        "model3 = model7()"
      ],
      "metadata": {
        "id": "fJWYmG4ynp80"
      },
      "execution_count": null,
      "outputs": []
    },
    {
      "cell_type": "code",
      "source": [
        "model3.compile(optimizer=keras.optimizers.Adam(learning_rate=1e-3),\n",
        "              loss=keras.losses.SparseCategoricalCrossentropy(from_logits=True),\n",
        "              metrics=[keras.metrics.SparseCategoricalAccuracy()])"
      ],
      "metadata": {
        "id": "ZE0odRSsnrs2"
      },
      "execution_count": null,
      "outputs": []
    },
    {
      "cell_type": "code",
      "source": [
        "history3 = model3.fit(X_train_scaled,y_train,batch_size=250, epochs=100,validation_data=(X_test_scaled,y_test))"
      ],
      "metadata": {
        "colab": {
          "base_uri": "https://localhost:8080/"
        },
        "id": "Ty3VupwonxmL",
        "outputId": "a1ab5060-eb37-4e26-ea24-ef61b6586473"
      },
      "execution_count": null,
      "outputs": [
        {
          "output_type": "stream",
          "name": "stdout",
          "text": [
            "Epoch 1/100\n",
            "183/183 [==============================] - 1s 4ms/step - loss: 0.0052 - sparse_categorical_accuracy: 0.9989 - val_loss: 0.0070 - val_sparse_categorical_accuracy: 0.9986\n",
            "Epoch 2/100\n",
            "183/183 [==============================] - 1s 4ms/step - loss: 0.0051 - sparse_categorical_accuracy: 0.9990 - val_loss: 0.0059 - val_sparse_categorical_accuracy: 0.9986\n",
            "Epoch 3/100\n",
            "183/183 [==============================] - 1s 4ms/step - loss: 0.0052 - sparse_categorical_accuracy: 0.9990 - val_loss: 0.0065 - val_sparse_categorical_accuracy: 0.9984\n",
            "Epoch 4/100\n",
            "183/183 [==============================] - 1s 4ms/step - loss: 0.0051 - sparse_categorical_accuracy: 0.9990 - val_loss: 0.0064 - val_sparse_categorical_accuracy: 0.9984\n",
            "Epoch 5/100\n",
            "183/183 [==============================] - 1s 4ms/step - loss: 0.0051 - sparse_categorical_accuracy: 0.9989 - val_loss: 0.0069 - val_sparse_categorical_accuracy: 0.9984\n",
            "Epoch 6/100\n",
            "183/183 [==============================] - 1s 4ms/step - loss: 0.0049 - sparse_categorical_accuracy: 0.9989 - val_loss: 0.0066 - val_sparse_categorical_accuracy: 0.9985\n",
            "Epoch 7/100\n",
            "183/183 [==============================] - 1s 4ms/step - loss: 0.0052 - sparse_categorical_accuracy: 0.9990 - val_loss: 0.0068 - val_sparse_categorical_accuracy: 0.9985\n",
            "Epoch 8/100\n",
            "183/183 [==============================] - 1s 4ms/step - loss: 0.0051 - sparse_categorical_accuracy: 0.9990 - val_loss: 0.0069 - val_sparse_categorical_accuracy: 0.9988\n",
            "Epoch 9/100\n",
            "183/183 [==============================] - 1s 5ms/step - loss: 0.0047 - sparse_categorical_accuracy: 0.9991 - val_loss: 0.0067 - val_sparse_categorical_accuracy: 0.9984\n",
            "Epoch 10/100\n",
            "183/183 [==============================] - 1s 5ms/step - loss: 0.0047 - sparse_categorical_accuracy: 0.9991 - val_loss: 0.0065 - val_sparse_categorical_accuracy: 0.9984\n",
            "Epoch 11/100\n",
            "183/183 [==============================] - 1s 4ms/step - loss: 0.0048 - sparse_categorical_accuracy: 0.9990 - val_loss: 0.0060 - val_sparse_categorical_accuracy: 0.9986\n",
            "Epoch 12/100\n",
            "183/183 [==============================] - 1s 4ms/step - loss: 0.0048 - sparse_categorical_accuracy: 0.9991 - val_loss: 0.0068 - val_sparse_categorical_accuracy: 0.9986\n",
            "Epoch 13/100\n",
            "183/183 [==============================] - 1s 4ms/step - loss: 0.0047 - sparse_categorical_accuracy: 0.9991 - val_loss: 0.0064 - val_sparse_categorical_accuracy: 0.9985\n",
            "Epoch 14/100\n",
            "183/183 [==============================] - 1s 4ms/step - loss: 0.0047 - sparse_categorical_accuracy: 0.9991 - val_loss: 0.0061 - val_sparse_categorical_accuracy: 0.9985\n",
            "Epoch 15/100\n",
            "183/183 [==============================] - 1s 4ms/step - loss: 0.0049 - sparse_categorical_accuracy: 0.9990 - val_loss: 0.0058 - val_sparse_categorical_accuracy: 0.9987\n",
            "Epoch 16/100\n",
            "183/183 [==============================] - 1s 4ms/step - loss: 0.0047 - sparse_categorical_accuracy: 0.9991 - val_loss: 0.0063 - val_sparse_categorical_accuracy: 0.9985\n",
            "Epoch 17/100\n",
            "183/183 [==============================] - 1s 4ms/step - loss: 0.0047 - sparse_categorical_accuracy: 0.9991 - val_loss: 0.0060 - val_sparse_categorical_accuracy: 0.9986\n",
            "Epoch 18/100\n",
            "183/183 [==============================] - 1s 4ms/step - loss: 0.0045 - sparse_categorical_accuracy: 0.9991 - val_loss: 0.0064 - val_sparse_categorical_accuracy: 0.9985\n",
            "Epoch 19/100\n",
            "183/183 [==============================] - 1s 3ms/step - loss: 0.0047 - sparse_categorical_accuracy: 0.9991 - val_loss: 0.0065 - val_sparse_categorical_accuracy: 0.9987\n",
            "Epoch 20/100\n",
            "183/183 [==============================] - 1s 4ms/step - loss: 0.0045 - sparse_categorical_accuracy: 0.9991 - val_loss: 0.0071 - val_sparse_categorical_accuracy: 0.9985\n",
            "Epoch 21/100\n",
            "183/183 [==============================] - 1s 4ms/step - loss: 0.0047 - sparse_categorical_accuracy: 0.9991 - val_loss: 0.0059 - val_sparse_categorical_accuracy: 0.9984\n",
            "Epoch 22/100\n",
            "183/183 [==============================] - 1s 4ms/step - loss: 0.0045 - sparse_categorical_accuracy: 0.9991 - val_loss: 0.0068 - val_sparse_categorical_accuracy: 0.9985\n",
            "Epoch 23/100\n",
            "183/183 [==============================] - 1s 4ms/step - loss: 0.0043 - sparse_categorical_accuracy: 0.9993 - val_loss: 0.0058 - val_sparse_categorical_accuracy: 0.9985\n",
            "Epoch 24/100\n",
            "183/183 [==============================] - 1s 3ms/step - loss: 0.0044 - sparse_categorical_accuracy: 0.9991 - val_loss: 0.0062 - val_sparse_categorical_accuracy: 0.9985\n",
            "Epoch 25/100\n",
            "183/183 [==============================] - 1s 4ms/step - loss: 0.0045 - sparse_categorical_accuracy: 0.9992 - val_loss: 0.0055 - val_sparse_categorical_accuracy: 0.9987\n",
            "Epoch 26/100\n",
            "183/183 [==============================] - 1s 5ms/step - loss: 0.0043 - sparse_categorical_accuracy: 0.9991 - val_loss: 0.0059 - val_sparse_categorical_accuracy: 0.9987\n",
            "Epoch 27/100\n",
            "183/183 [==============================] - 1s 5ms/step - loss: 0.0043 - sparse_categorical_accuracy: 0.9992 - val_loss: 0.0070 - val_sparse_categorical_accuracy: 0.9987\n",
            "Epoch 28/100\n",
            "183/183 [==============================] - 1s 4ms/step - loss: 0.0043 - sparse_categorical_accuracy: 0.9991 - val_loss: 0.0061 - val_sparse_categorical_accuracy: 0.9986\n",
            "Epoch 29/100\n",
            "183/183 [==============================] - 1s 3ms/step - loss: 0.0043 - sparse_categorical_accuracy: 0.9991 - val_loss: 0.0064 - val_sparse_categorical_accuracy: 0.9985\n",
            "Epoch 30/100\n",
            "183/183 [==============================] - 1s 4ms/step - loss: 0.0043 - sparse_categorical_accuracy: 0.9991 - val_loss: 0.0060 - val_sparse_categorical_accuracy: 0.9986\n",
            "Epoch 31/100\n",
            "183/183 [==============================] - 1s 4ms/step - loss: 0.0043 - sparse_categorical_accuracy: 0.9990 - val_loss: 0.0060 - val_sparse_categorical_accuracy: 0.9988\n",
            "Epoch 32/100\n",
            "183/183 [==============================] - 1s 4ms/step - loss: 0.0042 - sparse_categorical_accuracy: 0.9991 - val_loss: 0.0061 - val_sparse_categorical_accuracy: 0.9988\n",
            "Epoch 33/100\n",
            "183/183 [==============================] - 1s 4ms/step - loss: 0.0045 - sparse_categorical_accuracy: 0.9991 - val_loss: 0.0055 - val_sparse_categorical_accuracy: 0.9985\n",
            "Epoch 34/100\n",
            "183/183 [==============================] - 1s 3ms/step - loss: 0.0041 - sparse_categorical_accuracy: 0.9991 - val_loss: 0.0058 - val_sparse_categorical_accuracy: 0.9989\n",
            "Epoch 35/100\n",
            "183/183 [==============================] - 1s 3ms/step - loss: 0.0040 - sparse_categorical_accuracy: 0.9992 - val_loss: 0.0058 - val_sparse_categorical_accuracy: 0.9986\n",
            "Epoch 36/100\n",
            "183/183 [==============================] - 1s 4ms/step - loss: 0.0042 - sparse_categorical_accuracy: 0.9992 - val_loss: 0.0059 - val_sparse_categorical_accuracy: 0.9985\n",
            "Epoch 37/100\n",
            "183/183 [==============================] - 1s 4ms/step - loss: 0.0042 - sparse_categorical_accuracy: 0.9991 - val_loss: 0.0057 - val_sparse_categorical_accuracy: 0.9988\n",
            "Epoch 38/100\n",
            "183/183 [==============================] - 1s 4ms/step - loss: 0.0042 - sparse_categorical_accuracy: 0.9992 - val_loss: 0.0058 - val_sparse_categorical_accuracy: 0.9985\n",
            "Epoch 39/100\n",
            "183/183 [==============================] - 1s 4ms/step - loss: 0.0040 - sparse_categorical_accuracy: 0.9992 - val_loss: 0.0060 - val_sparse_categorical_accuracy: 0.9988\n",
            "Epoch 40/100\n",
            "183/183 [==============================] - 1s 4ms/step - loss: 0.0039 - sparse_categorical_accuracy: 0.9992 - val_loss: 0.0056 - val_sparse_categorical_accuracy: 0.9987\n",
            "Epoch 41/100\n",
            "183/183 [==============================] - 1s 4ms/step - loss: 0.0039 - sparse_categorical_accuracy: 0.9992 - val_loss: 0.0058 - val_sparse_categorical_accuracy: 0.9987\n",
            "Epoch 42/100\n",
            "183/183 [==============================] - 1s 5ms/step - loss: 0.0038 - sparse_categorical_accuracy: 0.9992 - val_loss: 0.0056 - val_sparse_categorical_accuracy: 0.9987\n",
            "Epoch 43/100\n",
            "183/183 [==============================] - 1s 5ms/step - loss: 0.0037 - sparse_categorical_accuracy: 0.9992 - val_loss: 0.0052 - val_sparse_categorical_accuracy: 0.9987\n",
            "Epoch 44/100\n",
            "183/183 [==============================] - 1s 5ms/step - loss: 0.0037 - sparse_categorical_accuracy: 0.9992 - val_loss: 0.0057 - val_sparse_categorical_accuracy: 0.9985\n",
            "Epoch 45/100\n",
            "183/183 [==============================] - 1s 4ms/step - loss: 0.0038 - sparse_categorical_accuracy: 0.9991 - val_loss: 0.0057 - val_sparse_categorical_accuracy: 0.9987\n",
            "Epoch 46/100\n",
            "183/183 [==============================] - 1s 4ms/step - loss: 0.0039 - sparse_categorical_accuracy: 0.9992 - val_loss: 0.0058 - val_sparse_categorical_accuracy: 0.9987\n",
            "Epoch 47/100\n",
            "183/183 [==============================] - 1s 4ms/step - loss: 0.0040 - sparse_categorical_accuracy: 0.9993 - val_loss: 0.0056 - val_sparse_categorical_accuracy: 0.9988\n",
            "Epoch 48/100\n",
            "183/183 [==============================] - 1s 4ms/step - loss: 0.0037 - sparse_categorical_accuracy: 0.9992 - val_loss: 0.0052 - val_sparse_categorical_accuracy: 0.9987\n",
            "Epoch 49/100\n",
            "183/183 [==============================] - 1s 4ms/step - loss: 0.0037 - sparse_categorical_accuracy: 0.9993 - val_loss: 0.0050 - val_sparse_categorical_accuracy: 0.9987\n",
            "Epoch 50/100\n",
            "183/183 [==============================] - 1s 4ms/step - loss: 0.0035 - sparse_categorical_accuracy: 0.9994 - val_loss: 0.0059 - val_sparse_categorical_accuracy: 0.9989\n",
            "Epoch 51/100\n",
            "183/183 [==============================] - 1s 4ms/step - loss: 0.0035 - sparse_categorical_accuracy: 0.9993 - val_loss: 0.0053 - val_sparse_categorical_accuracy: 0.9988\n",
            "Epoch 52/100\n",
            "183/183 [==============================] - 1s 4ms/step - loss: 0.0035 - sparse_categorical_accuracy: 0.9993 - val_loss: 0.0054 - val_sparse_categorical_accuracy: 0.9987\n",
            "Epoch 53/100\n",
            "183/183 [==============================] - 1s 4ms/step - loss: 0.0037 - sparse_categorical_accuracy: 0.9992 - val_loss: 0.0053 - val_sparse_categorical_accuracy: 0.9989\n",
            "Epoch 54/100\n",
            "183/183 [==============================] - 1s 4ms/step - loss: 0.0037 - sparse_categorical_accuracy: 0.9993 - val_loss: 0.0055 - val_sparse_categorical_accuracy: 0.9989\n",
            "Epoch 55/100\n",
            "183/183 [==============================] - 1s 4ms/step - loss: 0.0035 - sparse_categorical_accuracy: 0.9991 - val_loss: 0.0060 - val_sparse_categorical_accuracy: 0.9986\n",
            "Epoch 56/100\n",
            "183/183 [==============================] - 1s 4ms/step - loss: 0.0036 - sparse_categorical_accuracy: 0.9994 - val_loss: 0.0049 - val_sparse_categorical_accuracy: 0.9989\n",
            "Epoch 57/100\n",
            "183/183 [==============================] - 1s 4ms/step - loss: 0.0034 - sparse_categorical_accuracy: 0.9994 - val_loss: 0.0058 - val_sparse_categorical_accuracy: 0.9986\n",
            "Epoch 58/100\n",
            "183/183 [==============================] - 1s 4ms/step - loss: 0.0033 - sparse_categorical_accuracy: 0.9993 - val_loss: 0.0054 - val_sparse_categorical_accuracy: 0.9988\n",
            "Epoch 59/100\n",
            "183/183 [==============================] - 1s 5ms/step - loss: 0.0033 - sparse_categorical_accuracy: 0.9993 - val_loss: 0.0060 - val_sparse_categorical_accuracy: 0.9988\n",
            "Epoch 60/100\n",
            "183/183 [==============================] - 1s 5ms/step - loss: 0.0034 - sparse_categorical_accuracy: 0.9993 - val_loss: 0.0050 - val_sparse_categorical_accuracy: 0.9989\n",
            "Epoch 61/100\n",
            "183/183 [==============================] - 1s 5ms/step - loss: 0.0034 - sparse_categorical_accuracy: 0.9993 - val_loss: 0.0062 - val_sparse_categorical_accuracy: 0.9987\n",
            "Epoch 62/100\n",
            "183/183 [==============================] - 1s 4ms/step - loss: 0.0034 - sparse_categorical_accuracy: 0.9993 - val_loss: 0.0046 - val_sparse_categorical_accuracy: 0.9987\n",
            "Epoch 63/100\n",
            "183/183 [==============================] - 1s 4ms/step - loss: 0.0036 - sparse_categorical_accuracy: 0.9992 - val_loss: 0.0052 - val_sparse_categorical_accuracy: 0.9989\n",
            "Epoch 64/100\n",
            "183/183 [==============================] - 1s 4ms/step - loss: 0.0033 - sparse_categorical_accuracy: 0.9993 - val_loss: 0.0047 - val_sparse_categorical_accuracy: 0.9989\n",
            "Epoch 65/100\n",
            "183/183 [==============================] - 1s 4ms/step - loss: 0.0032 - sparse_categorical_accuracy: 0.9992 - val_loss: 0.0050 - val_sparse_categorical_accuracy: 0.9987\n",
            "Epoch 66/100\n",
            "183/183 [==============================] - 1s 5ms/step - loss: 0.0033 - sparse_categorical_accuracy: 0.9993 - val_loss: 0.0059 - val_sparse_categorical_accuracy: 0.9987\n",
            "Epoch 67/100\n",
            "183/183 [==============================] - 1s 6ms/step - loss: 0.0033 - sparse_categorical_accuracy: 0.9993 - val_loss: 0.0052 - val_sparse_categorical_accuracy: 0.9989\n",
            "Epoch 68/100\n",
            "183/183 [==============================] - 1s 4ms/step - loss: 0.0031 - sparse_categorical_accuracy: 0.9994 - val_loss: 0.0060 - val_sparse_categorical_accuracy: 0.9987\n",
            "Epoch 69/100\n",
            "183/183 [==============================] - 1s 5ms/step - loss: 0.0031 - sparse_categorical_accuracy: 0.9993 - val_loss: 0.0056 - val_sparse_categorical_accuracy: 0.9987\n",
            "Epoch 70/100\n",
            "183/183 [==============================] - 1s 6ms/step - loss: 0.0032 - sparse_categorical_accuracy: 0.9993 - val_loss: 0.0054 - val_sparse_categorical_accuracy: 0.9988\n",
            "Epoch 71/100\n",
            "183/183 [==============================] - 1s 4ms/step - loss: 0.0032 - sparse_categorical_accuracy: 0.9993 - val_loss: 0.0052 - val_sparse_categorical_accuracy: 0.9989\n",
            "Epoch 72/100\n",
            "183/183 [==============================] - 1s 4ms/step - loss: 0.0032 - sparse_categorical_accuracy: 0.9994 - val_loss: 0.0051 - val_sparse_categorical_accuracy: 0.9988\n",
            "Epoch 73/100\n",
            "183/183 [==============================] - 1s 4ms/step - loss: 0.0030 - sparse_categorical_accuracy: 0.9993 - val_loss: 0.0049 - val_sparse_categorical_accuracy: 0.9988\n",
            "Epoch 74/100\n",
            "183/183 [==============================] - 1s 8ms/step - loss: 0.0030 - sparse_categorical_accuracy: 0.9994 - val_loss: 0.0058 - val_sparse_categorical_accuracy: 0.9987\n",
            "Epoch 75/100\n",
            "183/183 [==============================] - 1s 8ms/step - loss: 0.0032 - sparse_categorical_accuracy: 0.9993 - val_loss: 0.0049 - val_sparse_categorical_accuracy: 0.9989\n",
            "Epoch 76/100\n",
            "183/183 [==============================] - 1s 5ms/step - loss: 0.0030 - sparse_categorical_accuracy: 0.9994 - val_loss: 0.0053 - val_sparse_categorical_accuracy: 0.9989\n",
            "Epoch 77/100\n",
            "183/183 [==============================] - 1s 5ms/step - loss: 0.0030 - sparse_categorical_accuracy: 0.9994 - val_loss: 0.0053 - val_sparse_categorical_accuracy: 0.9989\n",
            "Epoch 78/100\n",
            "183/183 [==============================] - 1s 4ms/step - loss: 0.0030 - sparse_categorical_accuracy: 0.9994 - val_loss: 0.0055 - val_sparse_categorical_accuracy: 0.9986\n",
            "Epoch 79/100\n",
            "183/183 [==============================] - 1s 4ms/step - loss: 0.0030 - sparse_categorical_accuracy: 0.9994 - val_loss: 0.0052 - val_sparse_categorical_accuracy: 0.9988\n",
            "Epoch 80/100\n",
            "183/183 [==============================] - 1s 5ms/step - loss: 0.0028 - sparse_categorical_accuracy: 0.9994 - val_loss: 0.0050 - val_sparse_categorical_accuracy: 0.9989\n",
            "Epoch 81/100\n",
            "183/183 [==============================] - 1s 5ms/step - loss: 0.0029 - sparse_categorical_accuracy: 0.9994 - val_loss: 0.0053 - val_sparse_categorical_accuracy: 0.9988\n",
            "Epoch 82/100\n",
            "183/183 [==============================] - 1s 4ms/step - loss: 0.0030 - sparse_categorical_accuracy: 0.9992 - val_loss: 0.0065 - val_sparse_categorical_accuracy: 0.9984\n",
            "Epoch 83/100\n",
            "183/183 [==============================] - 1s 4ms/step - loss: 0.0029 - sparse_categorical_accuracy: 0.9994 - val_loss: 0.0051 - val_sparse_categorical_accuracy: 0.9988\n",
            "Epoch 84/100\n",
            "183/183 [==============================] - 1s 6ms/step - loss: 0.0027 - sparse_categorical_accuracy: 0.9995 - val_loss: 0.0051 - val_sparse_categorical_accuracy: 0.9989\n",
            "Epoch 85/100\n",
            "183/183 [==============================] - 1s 4ms/step - loss: 0.0028 - sparse_categorical_accuracy: 0.9995 - val_loss: 0.0057 - val_sparse_categorical_accuracy: 0.9989\n",
            "Epoch 86/100\n",
            "183/183 [==============================] - 1s 4ms/step - loss: 0.0030 - sparse_categorical_accuracy: 0.9994 - val_loss: 0.0049 - val_sparse_categorical_accuracy: 0.9989\n",
            "Epoch 87/100\n",
            "183/183 [==============================] - 1s 4ms/step - loss: 0.0027 - sparse_categorical_accuracy: 0.9995 - val_loss: 0.0053 - val_sparse_categorical_accuracy: 0.9988\n",
            "Epoch 88/100\n",
            "183/183 [==============================] - 1s 5ms/step - loss: 0.0027 - sparse_categorical_accuracy: 0.9995 - val_loss: 0.0054 - val_sparse_categorical_accuracy: 0.9989\n",
            "Epoch 89/100\n",
            "183/183 [==============================] - 1s 5ms/step - loss: 0.0028 - sparse_categorical_accuracy: 0.9994 - val_loss: 0.0059 - val_sparse_categorical_accuracy: 0.9988\n",
            "Epoch 90/100\n",
            "183/183 [==============================] - 1s 4ms/step - loss: 0.0029 - sparse_categorical_accuracy: 0.9993 - val_loss: 0.0053 - val_sparse_categorical_accuracy: 0.9989\n",
            "Epoch 91/100\n",
            "183/183 [==============================] - 1s 4ms/step - loss: 0.0029 - sparse_categorical_accuracy: 0.9994 - val_loss: 0.0048 - val_sparse_categorical_accuracy: 0.9989\n",
            "Epoch 92/100\n",
            "183/183 [==============================] - 1s 4ms/step - loss: 0.0026 - sparse_categorical_accuracy: 0.9995 - val_loss: 0.0051 - val_sparse_categorical_accuracy: 0.9990\n",
            "Epoch 93/100\n",
            "183/183 [==============================] - 1s 3ms/step - loss: 0.0026 - sparse_categorical_accuracy: 0.9995 - val_loss: 0.0050 - val_sparse_categorical_accuracy: 0.9989\n",
            "Epoch 94/100\n",
            "183/183 [==============================] - 1s 4ms/step - loss: 0.0027 - sparse_categorical_accuracy: 0.9994 - val_loss: 0.0052 - val_sparse_categorical_accuracy: 0.9989\n",
            "Epoch 95/100\n",
            "183/183 [==============================] - 1s 4ms/step - loss: 0.0028 - sparse_categorical_accuracy: 0.9994 - val_loss: 0.0046 - val_sparse_categorical_accuracy: 0.9990\n",
            "Epoch 96/100\n",
            "183/183 [==============================] - 1s 4ms/step - loss: 0.0026 - sparse_categorical_accuracy: 0.9994 - val_loss: 0.0053 - val_sparse_categorical_accuracy: 0.9989\n",
            "Epoch 97/100\n",
            "183/183 [==============================] - 1s 4ms/step - loss: 0.0027 - sparse_categorical_accuracy: 0.9994 - val_loss: 0.0051 - val_sparse_categorical_accuracy: 0.9988\n",
            "Epoch 98/100\n",
            "183/183 [==============================] - 1s 4ms/step - loss: 0.0027 - sparse_categorical_accuracy: 0.9995 - val_loss: 0.0050 - val_sparse_categorical_accuracy: 0.9989\n",
            "Epoch 99/100\n",
            "183/183 [==============================] - 1s 4ms/step - loss: 0.0027 - sparse_categorical_accuracy: 0.9995 - val_loss: 0.0053 - val_sparse_categorical_accuracy: 0.9988\n",
            "Epoch 100/100\n",
            "183/183 [==============================] - 1s 4ms/step - loss: 0.0027 - sparse_categorical_accuracy: 0.9995 - val_loss: 0.0051 - val_sparse_categorical_accuracy: 0.9989\n"
          ]
        }
      ]
    },
    {
      "cell_type": "code",
      "source": [
        "model.summary()\n",
        "model2.summary()\n",
        "model3.summary()"
      ],
      "metadata": {
        "colab": {
          "base_uri": "https://localhost:8080/",
          "height": 460
        },
        "id": "WKIARBRUpP9m",
        "outputId": "95342f89-dcdc-4af4-d34e-e1ee43a0eeff"
      },
      "execution_count": null,
      "outputs": [
        {
          "output_type": "stream",
          "name": "stdout",
          "text": [
            "Model: \"sequential_7\"\n",
            "_________________________________________________________________\n",
            " Layer (type)                Output Shape              Param #   \n",
            "=================================================================\n",
            " dense_21 (Dense)            (None, 64)                2752      \n",
            "                                                                 \n",
            " dense_22 (Dense)            (None, 32)                2080      \n",
            "                                                                 \n",
            " dense_23 (Dense)            (None, 12)                396       \n",
            "                                                                 \n",
            "=================================================================\n",
            "Total params: 5,228\n",
            "Trainable params: 5,228\n",
            "Non-trainable params: 0\n",
            "_________________________________________________________________\n"
          ]
        },
        {
          "output_type": "error",
          "ename": "NameError",
          "evalue": "ignored",
          "traceback": [
            "\u001b[0;31m---------------------------------------------------------------------------\u001b[0m",
            "\u001b[0;31mNameError\u001b[0m                                 Traceback (most recent call last)",
            "\u001b[0;32m<ipython-input-75-c3e09d2f891a>\u001b[0m in \u001b[0;36m<module>\u001b[0;34m\u001b[0m\n\u001b[1;32m      1\u001b[0m \u001b[0mmodel\u001b[0m\u001b[0;34m.\u001b[0m\u001b[0msummary\u001b[0m\u001b[0;34m(\u001b[0m\u001b[0;34m)\u001b[0m\u001b[0;34m\u001b[0m\u001b[0;34m\u001b[0m\u001b[0m\n\u001b[0;32m----> 2\u001b[0;31m \u001b[0mmodel2\u001b[0m\u001b[0;34m.\u001b[0m\u001b[0msummary\u001b[0m\u001b[0;34m(\u001b[0m\u001b[0;34m)\u001b[0m\u001b[0;34m\u001b[0m\u001b[0;34m\u001b[0m\u001b[0m\n\u001b[0m\u001b[1;32m      3\u001b[0m \u001b[0mmodel3\u001b[0m\u001b[0;34m.\u001b[0m\u001b[0msummary\u001b[0m\u001b[0;34m(\u001b[0m\u001b[0;34m)\u001b[0m\u001b[0;34m\u001b[0m\u001b[0;34m\u001b[0m\u001b[0m\n",
            "\u001b[0;31mNameError\u001b[0m: name 'model2' is not defined"
          ]
        }
      ]
    },
    {
      "cell_type": "code",
      "source": [
        "model.save(\"model5.h5\")\n",
        "model2.save(\"model6.h5\")\n",
        "model3.save(\"model7.h5\")\n"
      ],
      "metadata": {
        "id": "iwFJEttIn1sX"
      },
      "execution_count": null,
      "outputs": []
    },
    {
      "cell_type": "code",
      "source": [
        "#thostaf"
      ],
      "metadata": {
        "id": "xmcwLbpsovkk"
      },
      "execution_count": null,
      "outputs": []
    },
    {
      "cell_type": "code",
      "source": [],
      "metadata": {
        "id": "Uu1Q1EKluCUd"
      },
      "execution_count": null,
      "outputs": []
    }
  ]
}