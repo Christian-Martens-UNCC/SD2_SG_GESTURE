{
  "cells": [
    {
      "cell_type": "code",
      "source": [
        "!pip install pytorch-tabnet"
      ],
      "metadata": {
        "colab": {
          "base_uri": "https://localhost:8080/"
        },
        "id": "Hox1tsRIMeQJ",
        "outputId": "690c11c6-29e7-4768-aa9d-3b7a83c69e6e"
      },
      "id": "Hox1tsRIMeQJ",
      "execution_count": null,
      "outputs": [
        {
          "output_type": "stream",
          "name": "stdout",
          "text": [
            "Looking in indexes: https://pypi.org/simple, https://us-python.pkg.dev/colab-wheels/public/simple/\n",
            "Collecting pytorch-tabnet\n",
            "  Downloading pytorch_tabnet-4.0-py3-none-any.whl (41 kB)\n",
            "\u001b[2K     \u001b[90m━━━━━━━━━━━━━━━━━━━━━━━━━━━━━━━━━━━━━━━\u001b[0m \u001b[32m41.8/41.8 KB\u001b[0m \u001b[31m846.9 kB/s\u001b[0m eta \u001b[36m0:00:00\u001b[0m\n",
            "\u001b[?25hRequirement already satisfied: scikit_learn>0.21 in /usr/local/lib/python3.9/dist-packages (from pytorch-tabnet) (1.2.2)\n",
            "Requirement already satisfied: torch<2.0,>=1.2 in /usr/local/lib/python3.9/dist-packages (from pytorch-tabnet) (1.13.1+cu116)\n",
            "Requirement already satisfied: tqdm<5.0,>=4.36 in /usr/local/lib/python3.9/dist-packages (from pytorch-tabnet) (4.65.0)\n",
            "Requirement already satisfied: scipy>1.4 in /usr/local/lib/python3.9/dist-packages (from pytorch-tabnet) (1.10.1)\n",
            "Requirement already satisfied: numpy<2.0,>=1.17 in /usr/local/lib/python3.9/dist-packages (from pytorch-tabnet) (1.22.4)\n",
            "Requirement already satisfied: joblib>=1.1.1 in /usr/local/lib/python3.9/dist-packages (from scikit_learn>0.21->pytorch-tabnet) (1.1.1)\n",
            "Requirement already satisfied: threadpoolctl>=2.0.0 in /usr/local/lib/python3.9/dist-packages (from scikit_learn>0.21->pytorch-tabnet) (3.1.0)\n",
            "Requirement already satisfied: typing-extensions in /usr/local/lib/python3.9/dist-packages (from torch<2.0,>=1.2->pytorch-tabnet) (4.5.0)\n",
            "Installing collected packages: pytorch-tabnet\n",
            "Successfully installed pytorch-tabnet-4.0\n"
          ]
        }
      ]
    },
    {
      "cell_type": "code",
      "execution_count": null,
      "id": "4e40ee67-ee98-4a82-b2a7-7bf07a27f3a2",
      "metadata": {
        "id": "4e40ee67-ee98-4a82-b2a7-7bf07a27f3a2"
      },
      "outputs": [],
      "source": [
        "import numpy as np\n",
        "import pandas as pd\n",
        "import os\n",
        "import torch\n",
        "\n",
        "from sklearn.model_selection import KFold\n",
        "from sklearn.preprocessing import LabelEncoder\n",
        "from sklearn.metrics import accuracy_score\n",
        "from pytorch_tabnet.tab_model import TabNetClassifier\n",
        "from sklearn.preprocessing import MinMaxScaler\n",
        "from sklearn.model_selection import train_test_split"
      ]
    },
    {
      "cell_type": "code",
      "execution_count": null,
      "id": "eded63ee-cd91-41b0-868f-2a8de7fa2afa",
      "metadata": {
        "colab": {
          "base_uri": "https://localhost:8080/"
        },
        "id": "eded63ee-cd91-41b0-868f-2a8de7fa2afa",
        "outputId": "a676406d-eaa8-4dcd-9b63-fc522cb9aa23"
      },
      "outputs": [
        {
          "output_type": "execute_result",
          "data": {
            "text/plain": [
              "(57132, 43)"
            ]
          },
          "metadata": {},
          "execution_count": 27
        }
      ],
      "source": [
        "# dataset = pd.read_csv('master_dataset.csv').to_numpy()\n",
        "dataset = pd.read_csv('master_dataset.csv')\n",
        "dataset.shape"
      ]
    },
    {
      "cell_type": "code",
      "execution_count": null,
      "id": "2cb64f5b-159d-48ed-9cc0-b372a024068b",
      "metadata": {
        "id": "2cb64f5b-159d-48ed-9cc0-b372a024068b"
      },
      "outputs": [],
      "source": [
        "target = \"ID\"\n",
        "int_columns = [\"Pos0 - X\",\"Pos0 - Y\",\"Pos1 - X\",\"Pos1 - Y\",\"Pos2 - X\",\"Pos2 - Y\",\"Pos3 - X\",\n",
        "               \"Pos3 - Y\",\"Pos4 - X\",\"Pos4 - Y\",\"Pos5 - X\",\"Pos5 - Y\",\"Pos6 - X\",\"Pos6 - Y\",\n",
        "               \"Pos7 - X\",\"Pos7 - Y\",\"Pos8 - X\",\"Pos8 - Y\",\"Pos9 - X\",\"Pos9 - Y\",\"Pos10 - X\",\n",
        "               \"Pos10 - Y\",\"Pos11 - X\",\"Pos11 - Y\",\"Pos12 - X\",\"Pos12 - Y\",\"Pos13 - X\",\"Pos13 - Y\",\n",
        "               \"Pos14 - X\",\"Pos14 - Y\",\"Pos15 - X\",\"Pos15 - Y\",\"Pos16 - X\",\"Pos16 - Y\",\"Pos17 - X\",\n",
        "               \"Pos17 - Y\",\"Pos18 - X\",\"Pos18 - Y\",\"Pos19 - X\",\"Pos19 - Y\",\"Pos20 - X\",\"Pos20 - Y\"]\n",
        "               \n",
        "feature_columns = (int_columns + [target])"
      ]
    },
    {
      "cell_type": "code",
      "source": [],
      "metadata": {
        "id": "iN4yZfF_Pepg"
      },
      "id": "iN4yZfF_Pepg",
      "execution_count": null,
      "outputs": []
    },
    {
      "cell_type": "code",
      "source": [
        "n_total = len(dataset)\n",
        "train_val_indices, test_indices = train_test_split(range(n_total), test_size=0.2, random_state=0)\n",
        "train_indices, valid_indices = train_test_split(\n",
        "    train_val_indices, test_size=0.2 / 0.6, random_state=0)"
      ],
      "metadata": {
        "id": "e-NrN4qdS93s"
      },
      "id": "e-NrN4qdS93s",
      "execution_count": null,
      "outputs": []
    },
    {
      "cell_type": "code",
      "source": [
        "categorical_columns = []\n",
        "categorical_dims =  {}\n",
        "for col in dataset.columns[dataset.dtypes == object]:\n",
        "    print(col, dataset[col].nunique())\n",
        "    l_enc = LabelEncoder()\n",
        "    dataset[col] = dataset[col].fillna(\"VV_likely\")\n",
        "    dataset[col] = l_enc.fit_transform(dataset[col].values)\n",
        "    categorical_columns.append(col)\n",
        "    categorical_dims[col] = len(l_enc.classes_)\n",
        "\n",
        "for col in dataset.columns[dataset.dtypes == 'float64']:\n",
        "    dataset.fillna(dataset.loc[train_indices, col].mean(), inplace=True)"
      ],
      "metadata": {
        "id": "OctLw8G3TH98"
      },
      "id": "OctLw8G3TH98",
      "execution_count": null,
      "outputs": []
    },
    {
      "cell_type": "code",
      "source": [
        "unused_feat = []\n",
        "\n",
        "features = [ col for col in dataset.columns if col not in unused_feat+[target]] \n",
        "\n",
        "cat_idxs = [ i for i, f in enumerate(features) if f in categorical_columns]\n",
        "\n",
        "cat_dims = [ categorical_dims[f] for i, f in enumerate(features) if f in categorical_columns]"
      ],
      "metadata": {
        "id": "qbIQAUDjV3vE"
      },
      "id": "qbIQAUDjV3vE",
      "execution_count": null,
      "outputs": []
    },
    {
      "cell_type": "code",
      "source": [
        "clf = TabNetClassifier(\n",
        "    n_d=20, n_a=20, n_steps=5,\n",
        "    gamma=1.5, n_independent=2, n_shared=2,\n",
        "    cat_idxs=cat_idxs,\n",
        "    cat_dims=cat_dims,\n",
        "    cat_emb_dim=1,\n",
        "    lambda_sparse=1e-4, momentum=0.3, clip_value=2.,\n",
        "    optimizer_fn=torch.optim.Adam,\n",
        "    optimizer_params=dict(lr=2e-2),\n",
        "    scheduler_params = {\"gamma\": 0.95,\n",
        "                     \"step_size\": 20},\n",
        "    scheduler_fn=torch.optim.lr_scheduler.StepLR, epsilon=1e-15,\n",
        "    device_name=\"auto\"\n",
        ")"
      ],
      "metadata": {
        "colab": {
          "base_uri": "https://localhost:8080/"
        },
        "id": "4rCrPB-eV_Of",
        "outputId": "b0cb93de-b6c0-4302-cb6c-46fb312721a8"
      },
      "id": "4rCrPB-eV_Of",
      "execution_count": null,
      "outputs": [
        {
          "output_type": "stream",
          "name": "stderr",
          "text": [
            "/usr/local/lib/python3.9/dist-packages/pytorch_tabnet/abstract_model.py:75: UserWarning: Device used : cuda\n",
            "  warnings.warn(f\"Device used : {self.device}\")\n"
          ]
        }
      ]
    },
    {
      "cell_type": "code",
      "source": [
        "X_train = dataset[features].values[train_indices]\n",
        "y_train = dataset[target].values[train_indices]\n",
        "X_valid = dataset[features].values[valid_indices]\n",
        "y_valid = dataset[target].values[valid_indices]\n",
        "X_test = dataset[features].values[test_indices]\n",
        "y_test = dataset[target].values[test_indices]"
      ],
      "metadata": {
        "id": "Sx91ImkHWOiU"
      },
      "id": "Sx91ImkHWOiU",
      "execution_count": null,
      "outputs": []
    },
    {
      "cell_type": "code",
      "source": [
        "max_epochs = 100"
      ],
      "metadata": {
        "id": "45-mNKklWd1M"
      },
      "id": "45-mNKklWd1M",
      "execution_count": null,
      "outputs": []
    },
    {
      "cell_type": "code",
      "source": [
        "from pytorch_tabnet.augmentations import ClassificationSMOTE\n",
        "aug = ClassificationSMOTE(p=0.2)\n",
        "\n",
        "clf.fit(\n",
        "    X_train=X_train, y_train=y_train,\n",
        "    eval_set=[(X_train, y_train), (X_valid, y_valid)],\n",
        "    eval_name=['train', 'valid'],\n",
        "    max_epochs=max_epochs, patience=100,\n",
        "    batch_size=150, virtual_batch_size=256,\n",
        "    augmentations=aug\n",
        ") "
      ],
      "metadata": {
        "colab": {
          "base_uri": "https://localhost:8080/"
        },
        "id": "bPZCa_1zWfUT",
        "outputId": "baf82f1a-0a9e-40f0-a94a-238394d290e5"
      },
      "id": "bPZCa_1zWfUT",
      "execution_count": null,
      "outputs": [
        {
          "output_type": "stream",
          "name": "stdout",
          "text": [
            "epoch 0  | loss: 0.94411 | train_accuracy: 0.77597 | valid_accuracy: 0.78006 |  0:00:13s\n",
            "epoch 1  | loss: 0.2542  | train_accuracy: 0.99104 | valid_accuracy: 0.99127 |  0:00:24s\n",
            "epoch 2  | loss: 0.17371 | train_accuracy: 0.9957  | valid_accuracy: 0.9958  |  0:00:35s\n",
            "epoch 3  | loss: 0.13737 | train_accuracy: 0.99659 | valid_accuracy: 0.99757 |  0:00:46s\n",
            "epoch 4  | loss: 0.13611 | train_accuracy: 0.99662 | valid_accuracy: 0.99698 |  0:00:57s\n",
            "epoch 5  | loss: 0.13176 | train_accuracy: 0.99573 | valid_accuracy: 0.99724 |  0:01:08s\n",
            "epoch 6  | loss: 0.13077 | train_accuracy: 0.99757 | valid_accuracy: 0.99803 |  0:01:19s\n",
            "epoch 7  | loss: 0.12316 | train_accuracy: 0.99609 | valid_accuracy: 0.99698 |  0:01:31s\n",
            "epoch 8  | loss: 0.11202 | train_accuracy: 0.99695 | valid_accuracy: 0.99777 |  0:01:42s\n",
            "epoch 9  | loss: 0.11835 | train_accuracy: 0.99639 | valid_accuracy: 0.99718 |  0:01:54s\n",
            "epoch 10 | loss: 0.13648 | train_accuracy: 0.99396 | valid_accuracy: 0.99357 |  0:02:05s\n",
            "epoch 11 | loss: 0.15582 | train_accuracy: 0.99793 | valid_accuracy: 0.9977  |  0:02:16s\n",
            "epoch 12 | loss: 0.11385 | train_accuracy: 0.99869 | valid_accuracy: 0.99895 |  0:02:27s\n",
            "epoch 13 | loss: 0.10105 | train_accuracy: 0.99865 | valid_accuracy: 0.99862 |  0:02:37s\n",
            "epoch 14 | loss: 0.10172 | train_accuracy: 0.99787 | valid_accuracy: 0.99842 |  0:02:48s\n",
            "epoch 15 | loss: 0.09771 | train_accuracy: 0.99865 | valid_accuracy: 0.99869 |  0:02:59s\n",
            "epoch 16 | loss: 0.1096  | train_accuracy: 0.9976  | valid_accuracy: 0.99816 |  0:03:10s\n",
            "epoch 17 | loss: 0.10538 | train_accuracy: 0.99806 | valid_accuracy: 0.99797 |  0:03:21s\n",
            "epoch 18 | loss: 0.09034 | train_accuracy: 0.99856 | valid_accuracy: 0.99888 |  0:03:32s\n",
            "epoch 19 | loss: 0.08931 | train_accuracy: 0.99885 | valid_accuracy: 0.99908 |  0:03:43s\n",
            "epoch 20 | loss: 0.08121 | train_accuracy: 0.99862 | valid_accuracy: 0.99875 |  0:03:54s\n",
            "epoch 21 | loss: 0.08026 | train_accuracy: 0.99892 | valid_accuracy: 0.99902 |  0:04:05s\n",
            "epoch 22 | loss: 0.08492 | train_accuracy: 0.99885 | valid_accuracy: 0.99888 |  0:04:16s\n",
            "epoch 23 | loss: 0.08805 | train_accuracy: 0.9978  | valid_accuracy: 0.99783 |  0:04:27s\n",
            "epoch 24 | loss: 0.08304 | train_accuracy: 0.99925 | valid_accuracy: 0.99934 |  0:04:37s\n",
            "epoch 25 | loss: 0.08814 | train_accuracy: 0.99839 | valid_accuracy: 0.99842 |  0:04:48s\n",
            "epoch 26 | loss: 0.08179 | train_accuracy: 0.99921 | valid_accuracy: 0.99954 |  0:04:59s\n",
            "epoch 27 | loss: 0.07506 | train_accuracy: 0.99833 | valid_accuracy: 0.99836 |  0:05:10s\n",
            "epoch 28 | loss: 0.07497 | train_accuracy: 0.99911 | valid_accuracy: 0.99941 |  0:05:21s\n",
            "epoch 29 | loss: 0.07259 | train_accuracy: 0.99895 | valid_accuracy: 0.99941 |  0:05:32s\n",
            "epoch 30 | loss: 0.07455 | train_accuracy: 0.99911 | valid_accuracy: 0.99908 |  0:05:44s\n",
            "epoch 31 | loss: 0.07101 | train_accuracy: 0.99928 | valid_accuracy: 0.99928 |  0:05:55s\n",
            "epoch 32 | loss: 0.07426 | train_accuracy: 0.99921 | valid_accuracy: 0.99921 |  0:06:06s\n",
            "epoch 33 | loss: 0.06877 | train_accuracy: 0.99911 | valid_accuracy: 0.99928 |  0:06:17s\n",
            "epoch 34 | loss: 0.06906 | train_accuracy: 0.99895 | valid_accuracy: 0.99895 |  0:06:28s\n",
            "epoch 35 | loss: 0.06951 | train_accuracy: 0.99944 | valid_accuracy: 0.99947 |  0:06:39s\n",
            "epoch 36 | loss: 0.0707  | train_accuracy: 0.99938 | valid_accuracy: 0.99928 |  0:06:50s\n",
            "epoch 37 | loss: 0.0641  | train_accuracy: 0.99954 | valid_accuracy: 0.99941 |  0:07:01s\n",
            "epoch 38 | loss: 0.06545 | train_accuracy: 0.99911 | valid_accuracy: 0.99921 |  0:07:13s\n",
            "epoch 39 | loss: 0.06644 | train_accuracy: 0.99947 | valid_accuracy: 0.99967 |  0:07:24s\n",
            "epoch 40 | loss: 0.06076 | train_accuracy: 0.99944 | valid_accuracy: 0.99928 |  0:07:35s\n",
            "epoch 41 | loss: 0.06234 | train_accuracy: 0.99898 | valid_accuracy: 0.99875 |  0:07:46s\n",
            "epoch 42 | loss: 0.06232 | train_accuracy: 0.99944 | valid_accuracy: 0.99941 |  0:07:57s\n",
            "epoch 43 | loss: 0.05926 | train_accuracy: 0.99842 | valid_accuracy: 0.99836 |  0:08:08s\n",
            "epoch 44 | loss: 0.06344 | train_accuracy: 0.99915 | valid_accuracy: 0.99902 |  0:08:19s\n",
            "epoch 45 | loss: 0.05897 | train_accuracy: 0.99875 | valid_accuracy: 0.99862 |  0:08:30s\n",
            "epoch 46 | loss: 0.06107 | train_accuracy: 0.99961 | valid_accuracy: 0.99961 |  0:08:40s\n",
            "epoch 47 | loss: 0.06136 | train_accuracy: 0.99947 | valid_accuracy: 0.99947 |  0:08:51s\n",
            "epoch 48 | loss: 0.06208 | train_accuracy: 0.99938 | valid_accuracy: 0.99967 |  0:09:02s\n",
            "epoch 49 | loss: 0.06221 | train_accuracy: 0.9997  | valid_accuracy: 0.99961 |  0:09:13s\n",
            "epoch 50 | loss: 0.06128 | train_accuracy: 0.99957 | valid_accuracy: 0.99961 |  0:09:24s\n",
            "epoch 51 | loss: 0.05771 | train_accuracy: 0.99957 | valid_accuracy: 0.99954 |  0:09:35s\n",
            "epoch 52 | loss: 0.05732 | train_accuracy: 0.99957 | valid_accuracy: 0.99967 |  0:09:46s\n",
            "epoch 53 | loss: 0.05712 | train_accuracy: 0.99961 | valid_accuracy: 0.99954 |  0:09:57s\n",
            "epoch 54 | loss: 0.05671 | train_accuracy: 0.99964 | valid_accuracy: 0.99961 |  0:10:08s\n",
            "epoch 55 | loss: 0.05786 | train_accuracy: 0.99967 | valid_accuracy: 0.99947 |  0:10:18s\n",
            "epoch 56 | loss: 0.0575  | train_accuracy: 0.99931 | valid_accuracy: 0.99934 |  0:10:28s\n",
            "epoch 57 | loss: 0.05988 | train_accuracy: 0.99967 | valid_accuracy: 0.99947 |  0:10:40s\n",
            "epoch 58 | loss: 0.0572  | train_accuracy: 0.99967 | valid_accuracy: 0.99954 |  0:10:51s\n",
            "epoch 59 | loss: 0.05531 | train_accuracy: 0.99898 | valid_accuracy: 0.99869 |  0:11:02s\n",
            "epoch 60 | loss: 0.06071 | train_accuracy: 0.99964 | valid_accuracy: 0.99961 |  0:11:13s\n",
            "epoch 61 | loss: 0.05611 | train_accuracy: 0.99974 | valid_accuracy: 0.99947 |  0:11:25s\n",
            "epoch 62 | loss: 0.05682 | train_accuracy: 0.9997  | valid_accuracy: 0.99954 |  0:11:36s\n",
            "epoch 63 | loss: 0.05665 | train_accuracy: 0.99961 | valid_accuracy: 0.99934 |  0:11:47s\n",
            "epoch 64 | loss: 0.05298 | train_accuracy: 0.9997  | valid_accuracy: 0.99961 |  0:11:58s\n",
            "epoch 65 | loss: 0.05345 | train_accuracy: 0.99974 | valid_accuracy: 0.99941 |  0:12:09s\n",
            "epoch 66 | loss: 0.05096 | train_accuracy: 0.99951 | valid_accuracy: 0.99941 |  0:12:19s\n",
            "epoch 67 | loss: 0.05426 | train_accuracy: 0.99977 | valid_accuracy: 0.99961 |  0:12:30s\n",
            "epoch 68 | loss: 0.05323 | train_accuracy: 0.99944 | valid_accuracy: 0.99967 |  0:12:41s\n",
            "epoch 69 | loss: 0.05851 | train_accuracy: 0.9998  | valid_accuracy: 0.99954 |  0:12:52s\n",
            "epoch 70 | loss: 0.05404 | train_accuracy: 0.9998  | valid_accuracy: 0.99967 |  0:13:03s\n",
            "epoch 71 | loss: 0.05438 | train_accuracy: 0.9998  | valid_accuracy: 0.99954 |  0:13:14s\n",
            "epoch 72 | loss: 0.05242 | train_accuracy: 0.99977 | valid_accuracy: 0.99928 |  0:13:25s\n",
            "epoch 73 | loss: 0.04973 | train_accuracy: 0.99977 | valid_accuracy: 0.99954 |  0:13:35s\n",
            "epoch 74 | loss: 0.054   | train_accuracy: 0.99977 | valid_accuracy: 0.99954 |  0:13:46s\n",
            "epoch 75 | loss: 0.04935 | train_accuracy: 0.99984 | valid_accuracy: 0.99961 |  0:13:57s\n",
            "epoch 76 | loss: 0.05131 | train_accuracy: 0.99961 | valid_accuracy: 0.99947 |  0:14:07s\n",
            "epoch 77 | loss: 0.05338 | train_accuracy: 0.99987 | valid_accuracy: 0.99954 |  0:14:18s\n",
            "epoch 78 | loss: 0.04995 | train_accuracy: 0.99967 | valid_accuracy: 0.99947 |  0:14:29s\n",
            "epoch 79 | loss: 0.04897 | train_accuracy: 0.99993 | valid_accuracy: 0.99967 |  0:14:40s\n",
            "epoch 80 | loss: 0.05097 | train_accuracy: 0.99987 | valid_accuracy: 0.99961 |  0:14:51s\n",
            "epoch 81 | loss: 0.04569 | train_accuracy: 0.9999  | valid_accuracy: 0.99961 |  0:15:02s\n",
            "epoch 82 | loss: 0.04903 | train_accuracy: 0.99974 | valid_accuracy: 0.99908 |  0:15:12s\n",
            "epoch 83 | loss: 0.04832 | train_accuracy: 0.99977 | valid_accuracy: 0.99954 |  0:15:23s\n",
            "epoch 84 | loss: 0.0462  | train_accuracy: 0.99984 | valid_accuracy: 0.99961 |  0:15:34s\n",
            "epoch 85 | loss: 0.04584 | train_accuracy: 0.99984 | valid_accuracy: 0.99947 |  0:15:44s\n",
            "epoch 86 | loss: 0.04977 | train_accuracy: 0.99993 | valid_accuracy: 0.99941 |  0:15:56s\n",
            "epoch 87 | loss: 0.04529 | train_accuracy: 0.99997 | valid_accuracy: 0.99954 |  0:16:07s\n",
            "epoch 88 | loss: 0.04526 | train_accuracy: 0.9997  | valid_accuracy: 0.99961 |  0:16:17s\n",
            "epoch 89 | loss: 0.05168 | train_accuracy: 0.99993 | valid_accuracy: 0.99947 |  0:16:28s\n",
            "epoch 90 | loss: 0.04969 | train_accuracy: 0.9999  | valid_accuracy: 0.99947 |  0:16:39s\n",
            "epoch 91 | loss: 0.04559 | train_accuracy: 0.99993 | valid_accuracy: 0.99974 |  0:16:50s\n",
            "epoch 92 | loss: 0.05429 | train_accuracy: 0.99984 | valid_accuracy: 0.99954 |  0:17:01s\n",
            "epoch 93 | loss: 0.0503  | train_accuracy: 0.99993 | valid_accuracy: 0.99974 |  0:17:12s\n",
            "epoch 94 | loss: 0.04923 | train_accuracy: 0.9999  | valid_accuracy: 0.99974 |  0:17:22s\n",
            "epoch 95 | loss: 0.04773 | train_accuracy: 0.9999  | valid_accuracy: 0.99941 |  0:17:33s\n",
            "epoch 96 | loss: 0.044   | train_accuracy: 1.0     | valid_accuracy: 0.99934 |  0:17:44s\n",
            "epoch 97 | loss: 0.04495 | train_accuracy: 0.99984 | valid_accuracy: 0.99961 |  0:17:55s\n",
            "epoch 98 | loss: 0.04742 | train_accuracy: 1.0     | valid_accuracy: 0.99961 |  0:18:06s\n",
            "epoch 99 | loss: 0.04326 | train_accuracy: 0.99993 | valid_accuracy: 0.99967 |  0:18:17s\n",
            "Stop training because you reached max_epochs = 100 with best_epoch = 91 and best_valid_accuracy = 0.99974\n"
          ]
        },
        {
          "output_type": "stream",
          "name": "stderr",
          "text": [
            "/usr/local/lib/python3.9/dist-packages/pytorch_tabnet/callbacks.py:172: UserWarning: Best weights from best epoch are automatically used!\n",
            "  warnings.warn(wrn_msg)\n"
          ]
        }
      ]
    },
    {
      "cell_type": "code",
      "source": [
        "from matplotlib import pyplot as plt\n",
        "%matplotlib inline\n",
        "\n",
        "plt.plot(clf.history['loss'])"
      ],
      "metadata": {
        "colab": {
          "base_uri": "https://localhost:8080/",
          "height": 282
        },
        "id": "80bkyvCyW9gm",
        "outputId": "c48a7dfb-754a-4dca-bf38-4ae7d8dd49a0"
      },
      "id": "80bkyvCyW9gm",
      "execution_count": null,
      "outputs": [
        {
          "output_type": "execute_result",
          "data": {
            "text/plain": [
              "[<matplotlib.lines.Line2D at 0x7f2809931520>]"
            ]
          },
          "metadata": {},
          "execution_count": 36
        },
        {
          "output_type": "display_data",
          "data": {
            "text/plain": [
              "<Figure size 432x288 with 1 Axes>"
            ],
            "image/png": "[encoded data removed]"
          },
          "metadata": {
            "needs_background": "light"
          }
        }
      ]
    },
    {
      "cell_type": "code",
      "source": [
        "plt.plot(clf.history['train_accuracy'])\n",
        "plt.plot(clf.history['valid_accuracy'])"
      ],
      "metadata": {
        "colab": {
          "base_uri": "https://localhost:8080/",
          "height": 282
        },
        "id": "5qsioIVvW_JP",
        "outputId": "d4262a44-2eab-4749-f081-2d4af3699693"
      },
      "id": "5qsioIVvW_JP",
      "execution_count": null,
      "outputs": [
        {
          "output_type": "execute_result",
          "data": {
            "text/plain": [
              "[<matplotlib.lines.Line2D at 0x7f280013a5b0>]"
            ]
          },
          "metadata": {},
          "execution_count": 37
        },
        {
          "output_type": "display_data",
          "data": {
            "text/plain": [
              "<Figure size 432x288 with 1 Axes>"
            ],
            "image/png": "[encoded data removed]"
          },
          "metadata": {
            "needs_background": "light"
          }
        }
      ]
    },
    {
      "cell_type": "code",
      "source": [
        "preds_mapper = { idx : class_name for idx, class_name in enumerate(clf.classes_)}\n",
        "\n",
        "preds = clf.predict_proba(X_test)\n",
        "\n",
        "y_pred = np.vectorize(preds_mapper.get)(np.argmax(preds, axis=1))\n",
        "\n",
        "test_acc = accuracy_score(y_pred=y_pred, y_true=y_test)\n",
        "dataset_name = 'LandMarks'\n",
        "print(f\"BEST VALID SCORE FOR {dataset_name} : {clf.best_cost}\")\n",
        "print(f\"FINAL TEST SCORE FOR {dataset_name} : {test_acc}\")"
      ],
      "metadata": {
        "colab": {
          "base_uri": "https://localhost:8080/"
        },
        "id": "Kl4kYbuZd9Tb",
        "outputId": "a179271f-80f1-4bf0-cdad-3623bc795761"
      },
      "id": "Kl4kYbuZd9Tb",
      "execution_count": null,
      "outputs": [
        {
          "output_type": "stream",
          "name": "stdout",
          "text": [
            "BEST VALID SCORE FOR LandMarks : 0.9997374639012864\n",
            "FINAL TEST SCORE FOR LandMarks : 0.9999124879670954\n"
          ]
        }
      ]
    },
    {
      "cell_type": "code",
      "source": [
        "y_pred = clf.predict(X_test)\n",
        "test_acc = accuracy_score(y_pred=y_pred, y_true=y_test)\n",
        "print(f\"FINAL TEST SCORE FOR {dataset_name} : {test_acc}\")"
      ],
      "metadata": {
        "colab": {
          "base_uri": "https://localhost:8080/"
        },
        "id": "CvC3yU9Ed_nQ",
        "outputId": "979f4d69-10dd-4565-f8df-837e3ffca18f"
      },
      "id": "CvC3yU9Ed_nQ",
      "execution_count": null,
      "outputs": [
        {
          "output_type": "stream",
          "name": "stdout",
          "text": [
            "FINAL TEST SCORE FOR LandMarks : 0.9999124879670954\n"
          ]
        }
      ]
    },
    {
      "cell_type": "code",
      "source": [
        "saved_filename = clf.save_model('Model7')\n",
        "# modelName = \"Model7_NC\"\n",
        "# torch.save(clf, modelName + \".params\")"
      ],
      "metadata": {
        "colab": {
          "base_uri": "https://localhost:8080/"
        },
        "id": "64VT0cpydY9i",
        "outputId": "cdc00725-d766-44c4-a0cf-81731dafd4bd"
      },
      "id": "64VT0cpydY9i",
      "execution_count": null,
      "outputs": [
        {
          "output_type": "stream",
          "name": "stdout",
          "text": [
            "Successfully saved model at Model7.zip\n"
          ]
        }
      ]
    },
    {
      "cell_type": "code",
      "source": [
        "loaded_clf = TabNetClassifier()\n",
        "loaded_clf.load_model('Model7.zip')"
      ],
      "metadata": {
        "id": "P8qLNYg7dbDW"
      },
      "id": "P8qLNYg7dbDW",
      "execution_count": null,
      "outputs": []
    },
    {
      "cell_type": "code",
      "source": [
        "loaded_preds = loaded_clf.predict_proba(X_test)\n",
        "loaded_y_pred = np.vectorize(preds_mapper.get)(np.argmax(loaded_preds, axis=1))\n",
        "\n",
        "loaded_test_acc = accuracy_score(y_pred=loaded_y_pred, y_true=y_test)\n",
        "\n",
        "print(f\"FINAL TEST SCORE FOR {dataset_name} : {loaded_test_acc}\")"
      ],
      "metadata": {
        "colab": {
          "base_uri": "https://localhost:8080/"
        },
        "id": "eNgkICXZdpqC",
        "outputId": "23da65ee-6306-4ae2-ca6c-7d37281a819e"
      },
      "id": "eNgkICXZdpqC",
      "execution_count": null,
      "outputs": [
        {
          "output_type": "stream",
          "name": "stdout",
          "text": [
            "FINAL TEST SCORE FOR LandMarks : 0.9999124879670954\n"
          ]
        }
      ]
    },
    {
      "cell_type": "code",
      "source": [
        "assert(test_acc == loaded_test_acc)"
      ],
      "metadata": {
        "id": "Vwjy-QN2dsfw"
      },
      "id": "Vwjy-QN2dsfw",
      "execution_count": null,
      "outputs": []
    }
  ],
  "metadata": {
    "kernelspec": {
      "display_name": "Python 3 (ipykernel)",
      "language": "python",
      "name": "python3"
    },
    "language_info": {
      "codemirror_mode": {
        "name": "ipython",
        "version": 3
      },
      "file_extension": ".py",
      "mimetype": "text/x-python",
      "name": "python",
      "nbconvert_exporter": "python",
      "pygments_lexer": "ipython3",
      "version": "3.9.12"
    },
    "colab": {
      "provenance": []
    },
    "accelerator": "GPU",
    "gpuClass": "standard"
  },
  "nbformat": 4,
  "nbformat_minor": 5
}