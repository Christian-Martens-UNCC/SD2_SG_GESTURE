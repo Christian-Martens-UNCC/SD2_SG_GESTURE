{
 "cells": [
  {
   "cell_type": "code",
   "execution_count": 6,
   "id": "921119f1",
   "metadata": {},
   "outputs": [],
   "source": [
    "import tensorflow as tf\n",
    "import keras\n",
    "import numpy as np"
   ]
  },
  {
   "cell_type": "code",
   "execution_count": 92,
   "id": "952e33ca",
   "metadata": {},
   "outputs": [],
   "source": [
    "def build_model2_1():\n",
    "    model = keras.Sequential([\n",
    "        keras.layers.Dense(30, activation='relu'),\n",
    "        keras.layers.Dense(12)\n",
    "    ])\n",
    "    return model"
   ]
  },
  {
   "cell_type": "code",
   "execution_count": 98,
   "id": "4df0eae1",
   "metadata": {},
   "outputs": [
    {
     "name": "stdout",
     "output_type": "stream",
     "text": [
      "(71778, 43)\n"
     ]
    }
   ],
   "source": [
    "data_path = r\"C:\\Users\\ccm51\\Documents\\SD_SG_GESTURE\\master_dataset.csv\"\n",
    "data_numpy = np.loadtxt(data_path, dtype = np.float16, delimiter = \",\", skiprows=1)\n",
    "print(data_numpy.shape)"
   ]
  },
  {
   "cell_type": "code",
   "execution_count": 99,
   "id": "f23b9d6f",
   "metadata": {},
   "outputs": [
    {
     "data": {
      "text/plain": [
       "64601"
      ]
     },
     "execution_count": 99,
     "metadata": {},
     "output_type": "execute_result"
    }
   ],
   "source": [
    "val_frac = 0.1\n",
    "num_val_samples = int(len(data_numpy) * val_frac)\n",
    "\n",
    "val_idxs = np.random.choice(np.arange(len(data_numpy)), size=num_val_samples, replace=False)\n",
    "trn_idxs = np.setdiff1d(np.arange(len(data_numpy)), val_idxs)\n",
    "\n",
    "val_images = data_numpy[val_idxs, :-1]\n",
    "train_images = data_numpy[trn_idxs, :-1]\n",
    "\n",
    "val_labels = data_numpy[val_idxs, -1]\n",
    "train_labels = data_numpy[trn_idxs, -1]\n",
    "\n",
    "len(train_images)"
   ]
  },
  {
   "cell_type": "code",
   "execution_count": 102,
   "id": "0c4fd7a8",
   "metadata": {},
   "outputs": [],
   "source": [
    "model2_1 = build_model2_1()"
   ]
  },
  {
   "cell_type": "code",
   "execution_count": 103,
   "id": "85c7e184",
   "metadata": {},
   "outputs": [
    {
     "name": "stdout",
     "output_type": "stream",
     "text": [
      "Model: \"sequential_14\"\n",
      "_________________________________________________________________\n",
      " Layer (type)                Output Shape              Param #   \n",
      "=================================================================\n",
      " dense_26 (Dense)            (None, 30)                1290      \n",
      "                                                                 \n",
      " dense_27 (Dense)            (None, 12)                372       \n",
      "                                                                 \n",
      "=================================================================\n",
      "Total params: 1,662\n",
      "Trainable params: 1,662\n",
      "Non-trainable params: 0\n",
      "_________________________________________________________________\n",
      "None\n",
      "Epoch 1/25\n",
      "130/130 [==============================] - 1s 2ms/step - loss: 52.9025 - sparse_categorical_accuracy: 0.3089 - val_loss: 10.8162 - val_sparse_categorical_accuracy: 0.5610\n",
      "Epoch 2/25\n",
      "130/130 [==============================] - 0s 2ms/step - loss: 4.5923 - sparse_categorical_accuracy: 0.7538 - val_loss: 1.6490 - val_sparse_categorical_accuracy: 0.8728\n",
      "Epoch 3/25\n",
      "130/130 [==============================] - 0s 2ms/step - loss: 1.0631 - sparse_categorical_accuracy: 0.9188 - val_loss: 0.6744 - val_sparse_categorical_accuracy: 0.9471\n",
      "Epoch 4/25\n",
      "130/130 [==============================] - 0s 2ms/step - loss: 0.6136 - sparse_categorical_accuracy: 0.9507 - val_loss: 0.4790 - val_sparse_categorical_accuracy: 0.9611\n",
      "Epoch 5/25\n",
      "130/130 [==============================] - 0s 2ms/step - loss: 0.4459 - sparse_categorical_accuracy: 0.9615 - val_loss: 0.3508 - val_sparse_categorical_accuracy: 0.9689\n",
      "Epoch 6/25\n",
      "130/130 [==============================] - 0s 2ms/step - loss: 0.3357 - sparse_categorical_accuracy: 0.9672 - val_loss: 0.3104 - val_sparse_categorical_accuracy: 0.9712\n",
      "Epoch 7/25\n",
      "130/130 [==============================] - 0s 2ms/step - loss: 0.2551 - sparse_categorical_accuracy: 0.9737 - val_loss: 0.2276 - val_sparse_categorical_accuracy: 0.9813\n",
      "Epoch 8/25\n",
      "130/130 [==============================] - 0s 2ms/step - loss: 0.2123 - sparse_categorical_accuracy: 0.9783 - val_loss: 0.2362 - val_sparse_categorical_accuracy: 0.9783\n",
      "Epoch 9/25\n",
      "130/130 [==============================] - 0s 2ms/step - loss: 0.1835 - sparse_categorical_accuracy: 0.9803 - val_loss: 0.1854 - val_sparse_categorical_accuracy: 0.9858\n",
      "Epoch 10/25\n",
      "130/130 [==============================] - 0s 2ms/step - loss: 0.1696 - sparse_categorical_accuracy: 0.9818 - val_loss: 0.1783 - val_sparse_categorical_accuracy: 0.9862\n",
      "Epoch 11/25\n",
      "130/130 [==============================] - 0s 2ms/step - loss: 0.1506 - sparse_categorical_accuracy: 0.9837 - val_loss: 0.1670 - val_sparse_categorical_accuracy: 0.9876\n",
      "Epoch 12/25\n",
      "130/130 [==============================] - 0s 2ms/step - loss: 0.1398 - sparse_categorical_accuracy: 0.9852 - val_loss: 0.1771 - val_sparse_categorical_accuracy: 0.9850\n",
      "Epoch 13/25\n",
      "130/130 [==============================] - 0s 2ms/step - loss: 0.1251 - sparse_categorical_accuracy: 0.9873 - val_loss: 0.1553 - val_sparse_categorical_accuracy: 0.9875\n",
      "Epoch 14/25\n",
      "130/130 [==============================] - 0s 2ms/step - loss: 0.1237 - sparse_categorical_accuracy: 0.9865 - val_loss: 0.2327 - val_sparse_categorical_accuracy: 0.9787\n",
      "Epoch 15/25\n",
      "130/130 [==============================] - 0s 2ms/step - loss: 0.1276 - sparse_categorical_accuracy: 0.9865 - val_loss: 0.1784 - val_sparse_categorical_accuracy: 0.9851\n",
      "Epoch 16/25\n",
      "130/130 [==============================] - 0s 2ms/step - loss: 0.1088 - sparse_categorical_accuracy: 0.9881 - val_loss: 0.1330 - val_sparse_categorical_accuracy: 0.9890\n",
      "Epoch 17/25\n",
      "130/130 [==============================] - 0s 2ms/step - loss: 0.1058 - sparse_categorical_accuracy: 0.9885 - val_loss: 0.1381 - val_sparse_categorical_accuracy: 0.9869\n",
      "Epoch 18/25\n",
      "130/130 [==============================] - 0s 2ms/step - loss: 0.0949 - sparse_categorical_accuracy: 0.9896 - val_loss: 0.1190 - val_sparse_categorical_accuracy: 0.9919\n",
      "Epoch 19/25\n",
      "130/130 [==============================] - 0s 2ms/step - loss: 0.0917 - sparse_categorical_accuracy: 0.9900 - val_loss: 0.1326 - val_sparse_categorical_accuracy: 0.9882\n",
      "Epoch 20/25\n",
      "130/130 [==============================] - 0s 2ms/step - loss: 0.0974 - sparse_categorical_accuracy: 0.9886 - val_loss: 0.1110 - val_sparse_categorical_accuracy: 0.9915\n",
      "Epoch 21/25\n",
      "130/130 [==============================] - 0s 2ms/step - loss: 0.0888 - sparse_categorical_accuracy: 0.9900 - val_loss: 0.1111 - val_sparse_categorical_accuracy: 0.9930\n",
      "Epoch 22/25\n",
      "130/130 [==============================] - 0s 2ms/step - loss: 0.0895 - sparse_categorical_accuracy: 0.9894 - val_loss: 0.1156 - val_sparse_categorical_accuracy: 0.9893\n",
      "Epoch 23/25\n",
      "130/130 [==============================] - 0s 2ms/step - loss: 0.0775 - sparse_categorical_accuracy: 0.9915 - val_loss: 0.1049 - val_sparse_categorical_accuracy: 0.9929\n",
      "Epoch 24/25\n",
      "130/130 [==============================] - 0s 2ms/step - loss: 0.0710 - sparse_categorical_accuracy: 0.9919 - val_loss: 0.1807 - val_sparse_categorical_accuracy: 0.9822\n",
      "Epoch 25/25\n",
      "130/130 [==============================] - 0s 2ms/step - loss: 0.0774 - sparse_categorical_accuracy: 0.9908 - val_loss: 0.1066 - val_sparse_categorical_accuracy: 0.9914\n"
     ]
    }
   ],
   "source": [
    "model2_1.build((None, 42))\n",
    "print(model2_1.summary())\n",
    "# compile and train model 1.\n",
    "model2_1.compile(\n",
    "    optimizer=keras.optimizers.Adam(learning_rate=1e-3),\n",
    "    loss=keras.losses.SparseCategoricalCrossentropy(from_logits=True),\n",
    "    metrics=[keras.metrics.SparseCategoricalAccuracy()]\n",
    ")\n",
    "history1 = model2_1.fit(\n",
    "    train_images,\n",
    "    train_labels,\n",
    "    batch_size=500,\n",
    "    epochs=25,\n",
    "    validation_data=(val_images, val_labels)\n",
    ")"
   ]
  },
  {
   "cell_type": "code",
   "execution_count": 104,
   "id": "fac593e2",
   "metadata": {},
   "outputs": [],
   "source": [
    "model2_1.save(\"model2_1.h5\")"
   ]
  }
 ],
 "metadata": {
  "kernelspec": {
   "display_name": "Python 3 (ipykernel)",
   "language": "python",
   "name": "python3"
  },
  "language_info": {
   "codemirror_mode": {
    "name": "ipython",
    "version": 3
   },
   "file_extension": ".py",
   "mimetype": "text/x-python",
   "name": "python",
   "nbconvert_exporter": "python",
   "pygments_lexer": "ipython3",
   "version": "3.9.12"
  }
 },
 "nbformat": 4,
 "nbformat_minor": 5
}
